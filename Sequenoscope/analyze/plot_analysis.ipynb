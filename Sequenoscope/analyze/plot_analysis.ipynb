{
 "cells": [
  {
   "cell_type": "code",
   "execution_count": null,
   "metadata": {},
   "outputs": [],
   "source": [
    "import pandas as pd\n",
    "import plotly.graph_objects as go\n",
    "import plotly.express as px"
   ]
  },
  {
   "attachments": {},
   "cell_type": "markdown",
   "metadata": {},
   "source": [
    "Source File Taxon Covered Bases Bar Chart"
   ]
  },
  {
   "cell_type": "code",
   "execution_count": null,
   "metadata": {},
   "outputs": [],
   "source": [
    "# Read the data from the first file\n",
    "df1 = pd.read_csv('paired_end_even_sample_manifest_summary.txt', delimiter='\\t')\n",
    "# Add a column to designate the source file for the first dataframe\n",
    "df1['source_file'] = 'test file'\n",
    "\n",
    "# Read the data from the second file\n",
    "df2 = pd.read_csv('paired_end_log_sample_manifest_summary.txt', delimiter='\\t')\n",
    "# Add a column to designate the source file for the second dataframe\n",
    "df2['source_file'] = 'control file'\n",
    "\n",
    "# Concatenate the two dataframes\n",
    "df = pd.concat([df1, df2])\n",
    "\n",
    "# Exclude taxon IDs represented by \"*\"\n",
    "df = df[df['taxon_id'] != '*']\n",
    "\n",
    "# Assign a numeric value to each unique taxon ID\n",
    "df['taxon_label'] = pd.factorize(df['taxon_id'])[0]\n",
    "\n",
    "# Create a custom color scale using a list of colors\n",
    "color_scale = ['#FF7F0E', '#1F77B4', '#FFC0CB', '#2CA02C', '#D62728', '#9467BD']\n",
    "\n",
    "# Create the bar chart\n",
    "fig = go.Figure()\n",
    "\n",
    "for _, row in df.iterrows():\n",
    "    fig.add_trace(go.Bar(\n",
    "        x=[row['source_file']],\n",
    "        y=[row['taxon_%_covered_bases']],\n",
    "        name=row['taxon_id'],\n",
    "        marker=dict(color=color_scale[row['taxon_label']]),\n",
    "        hovertemplate='<b>Source File: %{x}</b><br>' +\n",
    "                      'Estimated Genome Size: %{customdata[1]}<br>' +\n",
    "                      'Taxon ID: %{text}<br>' +\n",
    "                      'Taxon Length: %{customdata[0]}<br>' +\n",
    "                      'Covered Bases: %{y}<br>',\n",
    "        customdata=[[row['taxon_length'], row['est_genome_size']]],\n",
    "        text=[row['taxon_id']]\n",
    "    ))\n",
    "\n",
    "# Set the axis labels\n",
    "fig.update_layout(\n",
    "    xaxis_title='Source File',\n",
    "    yaxis_title='Taxon % Covered Bases'\n",
    ")\n",
    "\n",
    "# Add x and y axis grid\n",
    "fig.update_layout(\n",
    "    xaxis=dict(showgrid=True, gridcolor='lightgray'),\n",
    "    yaxis=dict(showgrid=True, gridcolor='lightgray')\n",
    ")\n",
    "\n",
    "# Remove the legend\n",
    "fig.update_layout(showlegend=False)\n",
    "\n",
    "# Set the colorscale\n",
    "fig.update_traces(marker=dict(colorscale=color_scale))\n",
    "\n",
    "# Show the figure\n",
    "fig.show()"
   ]
  },
  {
   "attachments": {},
   "cell_type": "markdown",
   "metadata": {},
   "source": [
    "Box Plot sample for Taxon % Covered Bases"
   ]
  },
  {
   "cell_type": "code",
   "execution_count": null,
   "metadata": {},
   "outputs": [],
   "source": [
    "import pandas as pd\n",
    "import plotly.graph_objects as go\n",
    "\n",
    "# Read the data from the first file\n",
    "df1 = pd.read_csv('paired_end_even_sample_manifest_summary.txt', delimiter='\\t')\n",
    "# Read the data from the second file\n",
    "df2 = pd.read_csv('paired_end_log_sample_manifest_summary.txt', delimiter='\\t')\n",
    "\n",
    "# Combine the test and control data into a single DataFrame\n",
    "df = pd.concat([df1, df2])\n",
    "\n",
    "# Create the box plot\n",
    "fig = go.Figure()\n",
    "\n",
    "# Add the box plot for the test sample\n",
    "fig.add_trace(go.Box(\n",
    "    y=df1['taxon_%_covered_bases'],\n",
    "    name='Test Sample',\n",
    "    showlegend=False \n",
    "))\n",
    "\n",
    "# Add the box plot for the control sample\n",
    "fig.add_trace(go.Box(\n",
    "    y=df2['taxon_%_covered_bases'],\n",
    "    name='Control Sample',\n",
    "    showlegend=False \n",
    "))\n",
    "\n",
    "# Set the axis labels and title\n",
    "fig.update_layout(\n",
    "    yaxis_title='Taxon % Covered Bases'\n",
    "    #title='Box Plot: Comparison of Test and Control Samples',\n",
    ")\n",
    "\n",
    "# Show the plot\n",
    "fig.show()"
   ]
  },
  {
   "attachments": {},
   "cell_type": "markdown",
   "metadata": {},
   "source": [
    "Bar Chart of Ratio of Test to Control Sample Manifest Summary Paramters"
   ]
  },
  {
   "cell_type": "code",
   "execution_count": null,
   "metadata": {},
   "outputs": [],
   "source": [
    "# Read the data from the test and control files\n",
    "test_data = pd.read_csv('paired_end_even_sample_manifest_summary.txt', delimiter='\\t')\n",
    "control_data = pd.read_csv('paired_end_log_sample_manifest_summary.txt', delimiter='\\t')\n",
    "\n",
    "# Get the parameter names from the columns of the data (excluding 'sample_id' and 'taxon_id')\n",
    "parameter_names = test_data.columns[1:].difference(['sample_id', 'taxon_id'])\n",
    "\n",
    "# Compute the ratio of test to control for each parameter (excluding 'sample_id' and 'taxon_id')\n",
    "ratio_values = test_data[parameter_names] / control_data[parameter_names]\n",
    "\n",
    "# Define a cohesive color palette\n",
    "color_palette = ['#FF7F0E', '#1F77B4', '#FFC0CB', '#2CA02C', '#D62728', '#9467BD']\n",
    "\n",
    "# Create the bar plot\n",
    "fig = go.Figure()\n",
    "\n",
    "for i, parameter in enumerate(parameter_names):\n",
    "    fig.add_trace(go.Bar(\n",
    "        x=[parameter],\n",
    "        y=[ratio_values.loc[0, parameter]],\n",
    "        name='Ratio',\n",
    "        marker=dict(color=color_palette[i % len(color_palette)]),  # Use color from the palette\n",
    "        hovertemplate='<b>Parameter:</b> %{x}<br>' +\n",
    "                      '<b>Ratio:</b> %{y:.2f}<br>' +\n",
    "                      '<b>Test Value:</b> %{customdata[0]:.2f}<br>' +\n",
    "                      '<b>Control Value:</b> %{customdata[1]:.2f}',  # Custom hover template\n",
    "        customdata=[[test_data.loc[0, parameter], control_data.loc[0, parameter]]],\n",
    "        showlegend=False  # Remove the legend\n",
    "    ))\n",
    "\n",
    "# Set the axis labels\n",
    "fig.update_layout(\n",
    "    xaxis_title='Parameter',\n",
    "    yaxis_title='Ratio (Test/Control)',\n",
    "    font_family='Arial',  # Custom font family\n",
    "    font_color='rgb(64, 64, 64)',  # Custom font color\n",
    ")\n",
    "\n",
    "# Adjust the figure margins and height\n",
    "fig.update_layout(\n",
    "    margin=dict(l=80, r=80, t=40, b=50),\n",
    "    height=500  # Adjust the figure height\n",
    ")\n",
    "\n",
    "# Show the figure\n",
    "fig.show()"
   ]
  },
  {
   "attachments": {},
   "cell_type": "markdown",
   "metadata": {},
   "source": [
    "(Single) Bar Chart of Ratio of Test to Control Sample Manifest Summary Paramter"
   ]
  },
  {
   "cell_type": "code",
   "execution_count": null,
   "metadata": {},
   "outputs": [],
   "source": [
    "# Read the data from the test and control files\n",
    "test_data = pd.read_csv('paired_end_even_sample_manifest_summary.txt', delimiter='\\t')\n",
    "control_data = pd.read_csv('paired_end_log_sample_manifest_summary.txt', delimiter='\\t')\n",
    "\n",
    "# Compute the ratio of test to control for \"taxon_covered_bases\"\n",
    "ratio_values = test_data['taxon_covered_bases'] / control_data['taxon_covered_bases']\n",
    "\n",
    "# Create the bar plot\n",
    "fig = go.Figure()\n",
    "\n",
    "fig.add_trace(go.Bar(\n",
    "    x=['taxon_covered_bases'],\n",
    "    y=[ratio_values.loc[0]],\n",
    "    name='Ratio',\n",
    "    marker_color='#1f77b4',  # Custom color\n",
    "    hovertemplate='<b>Parameter:</b> %{x}<br><b>Ratio:</b> %{y:.2f}',  # Custom hover template\n",
    "))\n",
    "\n",
    "# Set the axis labels and title\n",
    "fig.update_layout(\n",
    "    xaxis_title='Parameter',\n",
    "    yaxis_title='Ratio (Test/Control)',\n",
    "    title={\n",
    "        'text': 'Ratio of Test to Control for \"taxon_covered_bases\"',\n",
    "        'y': 0.95,  # Set the title position to the top of the plot\n",
    "        'x': 0.5,  # Center the title horizontally\n",
    "        'xanchor': 'center',\n",
    "        'yanchor': 'top'\n",
    "    },\n",
    "    showlegend=False,\n",
    "    plot_bgcolor='rgba(0,0,0,0)',  # Transparent plot background\n",
    "    font_family='Arial',  # Custom font family\n",
    "    font_color='rgb(64, 64, 64)',  # Custom font color\n",
    "    title_font=dict(size=24),  # Custom title font size\n",
    ")\n",
    "\n",
    "# Adjust the figure margins\n",
    "fig.update_layout(\n",
    "    margin=dict(l=50, r=50, t=80, b=50),\n",
    ")\n",
    "\n",
    "# Show the figure\n",
    "fig.show()"
   ]
  },
  {
   "attachments": {},
   "cell_type": "markdown",
   "metadata": {},
   "source": [
    "Visualizations for Sample Manifest File"
   ]
  },
  {
   "attachments": {},
   "cell_type": "markdown",
   "metadata": {},
   "source": [
    "Heavy scatter plot of read qscore and read len**\n",
    "\n",
    "**will crash vscode\n"
   ]
  },
  {
   "cell_type": "code",
   "execution_count": null,
   "metadata": {},
   "outputs": [],
   "source": [
    "# Read the tab-separated txt file into a pandas DataFrame\n",
    "data = pd.read_csv('sample_manifest_long_read_example.txt', sep='\\t')\n",
    "\n",
    "# Create the first scatter plot (start_time vs read_qscore and read_len)\n",
    "fig1 = px.scatter(data, x='start_time', y=['read_qscore', 'read_len'],\n",
    "                  color_discrete_sequence=['darkorange', 'steelblue'],\n",
    "                  symbol_sequence=['circle', 'square'],\n",
    "                  trendline=\"ols\",\n",
    "                  hover_name='sample_id', opacity=0.7,\n",
    "                  labels={'start_time': 'Start Time', 'y': 'Value'},\n",
    "                  title='Start Time vs Read Q-Score and Read Length')\n",
    "\n",
    "# Create the second scatter plot (end_time vs read_qscore and read_len)\n",
    "# fig2 = px.scatter(data, x='end_time', y=['read_qscore', 'read_len'],\n",
    "#                   color_discrete_sequence=['darkorange', 'steelblue'],\n",
    "#                   symbol_sequence=['circle', 'square'],\n",
    "#                   hover_name='sample_id', opacity=0.7,\n",
    "#                   labels={'end_time': 'End Time', 'y': 'Value'},\n",
    "#                   title='End Time vs Read Q-Score and Read Length')\n",
    "\n",
    "# Configure the plot layout\n",
    "layout = dict(\n",
    "    plot_bgcolor='white',\n",
    "    title=dict(x=0.5, font=dict(size=14)),\n",
    "    xaxis=dict(showgrid=False),\n",
    "    yaxis=dict(showgrid=False)\n",
    ")\n",
    "\n",
    "# Update the layout for the first scatter plot\n",
    "fig1.update_layout(**layout)\n",
    "\n",
    "# Update the layout for the second scatter plot\n",
    "# fig2.update_layout(**layout)\n",
    "\n",
    "# Display the plots\n",
    "fig1.show()\n",
    "#fig2.show()"
   ]
  },
  {
   "attachments": {},
   "cell_type": "markdown",
   "metadata": {},
   "source": [
    "Read length and start time line graph, inlcudes down sampling and smoothing average code"
   ]
  },
  {
   "cell_type": "code",
   "execution_count": null,
   "metadata": {},
   "outputs": [],
   "source": [
    "# Read the tab-separated txt file into a pandas DataFrame\n",
    "# Max Start time = 7541.6\n",
    "data = pd.read_csv('/home/ameknas/sequenoscope-1/test_SE/sample_manifest.txt', sep='\\t')\n",
    "\n",
    "# Convert the 'start_time' column to datetime format\n",
    "data['start_time'] = pd.to_datetime(data['start_time'])\n",
    "\n",
    "# Calculate the average read length for each start time\n",
    "average_read_length = data.groupby('start_time')['read_len'].mean().reset_index()\n",
    "\n",
    "# Sort the data based on start_time\n",
    "average_read_length = average_read_length.sort_values('start_time')\n",
    "\n",
    "# # Downsample the data by selecting every 100th point\n",
    "# downsampled_data = average_read_length[::1]\n",
    "\n",
    "# # Apply smoothing using a moving average\n",
    "# window_size = 10\n",
    "# smoothed_data = downsampled_data.rolling(window=window_size, min_periods=1).mean()\n",
    "\n",
    "# Define the time bin unit\n",
    "time_bin_unit = 'seconds'\n",
    "\n",
    "# Convert the x-axis units to the desired time bin\n",
    "convert_time_units = lambda x: pd.to_timedelta(x, unit='s') / pd.Timedelta('1{}'.format(time_bin_unit))\n",
    "\n",
    "# Reset the index of smoothed_data\n",
    "average_read_length = average_read_length.reset_index(drop=True)\n",
    "\n",
    "# Create the line graph\n",
    "fig = go.Figure()\n",
    "fig.add_trace(go.Scatter(x=average_read_length.index.map(convert_time_units), y=average_read_length['read_len'],\n",
    "                         mode='lines',\n",
    "                         name='Average Read Length'))\n",
    "\n",
    "# Configure the plot layout\n",
    "fig.update_layout(\n",
    "    plot_bgcolor='white',\n",
    "    xaxis=dict(showgrid=False, title='Start Time ({})'.format(time_bin_unit)),\n",
    "    yaxis=dict(showgrid=False, title='Average Read Length')\n",
    ")\n",
    "\n",
    "# Display the line graph\n",
    "fig.show()"
   ]
  },
  {
   "attachments": {},
   "cell_type": "markdown",
   "metadata": {},
   "source": [
    "Line Graph of read len and start time for each sequencing decision"
   ]
  },
  {
   "cell_type": "code",
   "execution_count": null,
   "metadata": {},
   "outputs": [],
   "source": [
    "# Read the tab-separated txt file into a pandas DataFrame\n",
    "data = pd.read_csv('/home/ameknas/sequenoscope-1/test_SE/sample_manifest.txt', sep='\\t')\n",
    "\n",
    "# Convert the 'start_time' column to datetime format\n",
    "data['start_time'] = pd.to_datetime(data['start_time'])\n",
    "\n",
    "# Calculate the average count for each decision at each start time\n",
    "decision_count = data.groupby(['start_time', 'decision']).size().reset_index(name='count')\n",
    "#average_count = decision_count.groupby(['start_time', 'decision'])['count'].mean().reset_index(name='average_count')\n",
    "\n",
    "# Define the time bin unit\n",
    "time_bin_unit = 'hours'\n",
    "\n",
    "# Convert the x-axis units to the desired time bin\n",
    "convert_time_units = lambda x: pd.to_timedelta(x, unit='s') / pd.Timedelta('1{}'.format(time_bin_unit))\n",
    "\n",
    "# Define the decision mapping dictionary\n",
    "classes = {\n",
    "    \"stop_receiving\": [\"signal_positive\"],\n",
    "    \"unblocked\": [\"data_service_unblock_mux_change\"],\n",
    "    \"no_decision\": [\"signal_negative\", \"unblock_mux_change\"]\n",
    "}\n",
    "\n",
    "# Map the decisions based on the dictionary\n",
    "decision_count['decision'] = decision_count['decision'].map(lambda x: next((k for k, v in classes.items() if x in v), x))\n",
    "\n",
    "# Get a color palette for the decisions\n",
    "color_palette = px.colors.qualitative.D3[:len(decision_count['decision'].unique())]\n",
    "\n",
    "# Create the line graph\n",
    "fig = go.Figure()\n",
    "\n",
    "# Add line traces for each decision\n",
    "for decision, color in zip(decision_count['decision'].unique(), color_palette):\n",
    "    filtered_data = decision_count[decision_count['decision'] == decision]\n",
    "    filtered_data['start_time_numeric'] = filtered_data['start_time'].astype(int)\n",
    "    fig.add_trace(go.Scatter(x=filtered_data['start_time_numeric'].map(convert_time_units), y=filtered_data['count'],\n",
    "                             mode='lines',\n",
    "                             name=decision,\n",
    "                             line=dict(color=color)))\n",
    "\n",
    "# Configure the plot layout\n",
    "fig.update_layout(\n",
    "    plot_bgcolor='white',\n",
    "    xaxis=dict(showgrid=False, title='Start Time ({})'.format(time_bin_unit)),\n",
    "    yaxis=dict(showgrid=False, title='Read Count'),\n",
    "    legend=dict(\n",
    "        orientation='h',\n",
    "        yanchor='top',\n",
    "        y=0.98,\n",
    "        xanchor='right',\n",
    "        x=0.98\n",
    "    ),\n",
    "    margin=dict(t=50, b=50)\n",
    ")\n",
    "\n",
    "# Display the line graph\n",
    "fig.show()"
   ]
  },
  {
   "attachments": {},
   "cell_type": "markdown",
   "metadata": {},
   "source": [
    "Stacked bar chart for each sequencing decision with dynamic x axis"
   ]
  },
  {
   "cell_type": "code",
   "execution_count": null,
   "metadata": {},
   "outputs": [],
   "source": [
    "# Read the tab-separated txt file into a pandas DataFrame\n",
    "data = pd.read_csv('/home/ameknas/sequenoscope-1/test_SE/sample_manifest.txt', sep='\\t')\n",
    "\n",
    "# Convert the 'start_time' column to datetime format\n",
    "data['start_time'] = pd.to_datetime(data['start_time'])\n",
    "\n",
    "total_count_2 = data.groupby('start_time').size().reset_index(name='total_count')\n",
    "\n",
    "# Calculate the count for each decision at each start time\n",
    "decision_count = data.groupby(['start_time', 'decision']).size().reset_index(name='count')\n",
    "\n",
    "# Define the decision mapping dictionary\n",
    "classes = {\n",
    "    \"stop_receiving\": [\"signal_positive\"],\n",
    "    \"unblocked\": [\"data_service_unblock_mux_change\"],\n",
    "    \"no_decision\": [\"signal_negative\", \"unblock_mux_change\"]\n",
    "}\n",
    "\n",
    "# Map the decisions based on the dictionary\n",
    "decision_count['decision'] = decision_count['decision'].map(lambda x: next((k for k, v in classes.items() if x in v), x))\n",
    "\n",
    "# Calculate the total count at each start time\n",
    "total_count = decision_count.groupby('start_time')['count'].sum().reset_index(name='total_count')\n",
    "\n",
    "# Calculate the percentage for each decision at each start time\n",
    "decision_count = decision_count.merge(total_count, on='start_time')\n",
    "decision_count['percentage'] = decision_count['count'] / decision_count['total_count'] * 100\n",
    "\n",
    "# Calculate the maximum count for scaling the second y-axis\n",
    "max_count = total_count_2[\"total_count\"].max()\n",
    "\n",
    "\n",
    "# Define the time bin unit and selected unit\n",
    "time_bin_unit = 'seconds'\n",
    "\n",
    "# Convert the x-axis units to the desired time bin\n",
    "convert_time_units = lambda x: pd.to_timedelta(x, unit='s') / pd.Timedelta('1{}'.format(time_bin_unit))\n",
    "\n",
    "# Create the stacked bar chart\n",
    "fig = go.Figure()\n",
    "\n",
    "# Add bar traces for each decision\n",
    "color_palette = ['blue', 'green', 'orange', 'red']  # Define a custom color palette for the decisions\n",
    "for idx, decision in enumerate(decision_count['decision'].unique()):\n",
    "    filtered_data = decision_count[decision_count['decision'] == decision]\n",
    "    filtered_data['start_time_numeric'] = filtered_data['start_time'].astype(int)\n",
    "\n",
    "    # Filter the data to display only the desired points on the x-axis\n",
    "    if time_bin_unit == \"hours\":\n",
    "        filtered_data = filtered_data[\n",
    "            (filtered_data['start_time_numeric'] % 3600 == 0) | (filtered_data['start_time_numeric'] % 1800 == 0)\n",
    "            ]\n",
    "    elif time_bin_unit == \"minutes\":\n",
    "        filtered_data = filtered_data[(filtered_data['start_time_numeric'] % 60 == 0)]\n",
    "    \n",
    "\n",
    "    fig.add_trace(go.Bar(x=filtered_data['start_time_numeric'].map(convert_time_units),\n",
    "                         y=filtered_data['percentage'],\n",
    "                         name=decision,\n",
    "                         marker_color=color_palette[idx],\n",
    "                         yaxis='y'))\n",
    "\n",
    "# Create the second y-axis trace\n",
    "total_count_2['start_time_numeric'] = total_count_2['start_time'].astype(int)\n",
    "\n",
    "if time_bin_unit == \"hours\":\n",
    "        total_count_2 = total_count_2[\n",
    "            (total_count_2['start_time_numeric'] % 3600 == 0) | (total_count_2['start_time_numeric'] % 1800 == 0) | (total_count_2['start_time_numeric'] == 0)\n",
    "            ]\n",
    "elif time_bin_unit == \"minutes\":\n",
    "        total_count_2 = total_count_2[(total_count_2['start_time_numeric'] % 60 == 0)]\n",
    "fig.add_trace(go.Scatter(x=total_count_2['start_time'].astype(int).map(convert_time_units),\n",
    "                         y=total_count_2['total_count'],\n",
    "                         name='Read Count',\n",
    "                         mode='lines',\n",
    "                         line=dict(color='black'),\n",
    "                         visible=True,\n",
    "                         yaxis='y2'))\n",
    "\n",
    "# Configure the plot layout\n",
    "fig.update_layout(\n",
    "    barmode='stack',\n",
    "    plot_bgcolor='white',\n",
    "    xaxis=dict(showgrid=False, title='Start Time ({})'.format(time_bin_unit)),\n",
    "    yaxis=dict(showgrid=False, title='Percentage'),\n",
    "    yaxis2=dict(showgrid=False, title='Read Count', overlaying='y', side='right',\n",
    "                range=[0, max_count + 1]),  # Set the range of the second y-axis\n",
    "    legend=dict(\n",
    "        orientation='h',\n",
    "        yanchor='top',\n",
    "        y=1.05,\n",
    "        xanchor='right',\n",
    "        x=1\n",
    "    ),\n",
    "    margin=dict(t=50, b=50)\n",
    ")\n",
    "\n",
    "# Display the stacked bar chart\n",
    "fig.show()"
   ]
  },
  {
   "attachments": {},
   "cell_type": "markdown",
   "metadata": {},
   "source": [
    "Independent decision Stacked Bar Chart"
   ]
  },
  {
   "cell_type": "code",
   "execution_count": 143,
   "metadata": {},
   "outputs": [
    {
     "name": "stderr",
     "output_type": "stream",
     "text": [
      "/home/ameknas/anaconda3/lib/python3.7/site-packages/ipykernel_launcher.py:67: SettingWithCopyWarning:\n",
      "\n",
      "\n",
      "A value is trying to be set on a copy of a slice from a DataFrame.\n",
      "Try using .loc[row_indexer,col_indexer] = value instead\n",
      "\n",
      "See the caveats in the documentation: https://pandas.pydata.org/pandas-docs/stable/user_guide/indexing.html#returning-a-view-versus-a-copy\n",
      "\n"
     ]
    },
    {
     "data": {
      "application/vnd.plotly.v1+json": {
       "config": {
        "plotlyServerURL": "https://plot.ly"
       },
       "data": [
        {
         "marker": {
          "color": "blue"
         },
         "name": "no_decision",
         "type": "bar",
         "x": [
          0.5,
          1,
          1.5,
          2
         ],
         "y": [
          25,
          35.714285714285715,
          26.666666666666668,
          26.666666666666668
         ],
         "yaxis": "y"
        },
        {
         "marker": {
          "color": "green"
         },
         "name": "stop_receiving",
         "type": "bar",
         "x": [
          0.5,
          1,
          1.5,
          2
         ],
         "y": [
          25,
          7.142857142857142,
          46.666666666666664,
          20
         ],
         "yaxis": "y"
        },
        {
         "marker": {
          "color": "orange"
         },
         "name": "unblocked",
         "type": "bar",
         "x": [
          0.5,
          1,
          1.5,
          2
         ],
         "y": [
          50,
          57.14285714285714,
          26.666666666666668,
          53.333333333333336
         ],
         "yaxis": "y"
        },
        {
         "marker": {
          "color": "red"
         },
         "name": "mux_change",
         "type": "bar",
         "x": [],
         "y": [],
         "yaxis": "y"
        },
        {
         "line": {
          "color": "black"
         },
         "mode": "lines",
         "name": "Read Count",
         "type": "scatter",
         "visible": true,
         "x": [
          0.5,
          1,
          1.5,
          2
         ],
         "y": [
          24374,
          24080,
          23051,
          5012
         ],
         "yaxis": "y2"
        }
       ],
       "layout": {
        "barmode": "stack",
        "legend": {
         "orientation": "h",
         "x": 1,
         "xanchor": "right",
         "y": 1.05,
         "yanchor": "top"
        },
        "margin": {
         "b": 50,
         "t": 50
        },
        "plot_bgcolor": "white",
        "template": {
         "data": {
          "bar": [
           {
            "error_x": {
             "color": "#2a3f5f"
            },
            "error_y": {
             "color": "#2a3f5f"
            },
            "marker": {
             "line": {
              "color": "#E5ECF6",
              "width": 0.5
             },
             "pattern": {
              "fillmode": "overlay",
              "size": 10,
              "solidity": 0.2
             }
            },
            "type": "bar"
           }
          ],
          "barpolar": [
           {
            "marker": {
             "line": {
              "color": "#E5ECF6",
              "width": 0.5
             },
             "pattern": {
              "fillmode": "overlay",
              "size": 10,
              "solidity": 0.2
             }
            },
            "type": "barpolar"
           }
          ],
          "carpet": [
           {
            "aaxis": {
             "endlinecolor": "#2a3f5f",
             "gridcolor": "white",
             "linecolor": "white",
             "minorgridcolor": "white",
             "startlinecolor": "#2a3f5f"
            },
            "baxis": {
             "endlinecolor": "#2a3f5f",
             "gridcolor": "white",
             "linecolor": "white",
             "minorgridcolor": "white",
             "startlinecolor": "#2a3f5f"
            },
            "type": "carpet"
           }
          ],
          "choropleth": [
           {
            "colorbar": {
             "outlinewidth": 0,
             "ticks": ""
            },
            "type": "choropleth"
           }
          ],
          "contour": [
           {
            "colorbar": {
             "outlinewidth": 0,
             "ticks": ""
            },
            "colorscale": [
             [
              0,
              "#0d0887"
             ],
             [
              0.1111111111111111,
              "#46039f"
             ],
             [
              0.2222222222222222,
              "#7201a8"
             ],
             [
              0.3333333333333333,
              "#9c179e"
             ],
             [
              0.4444444444444444,
              "#bd3786"
             ],
             [
              0.5555555555555556,
              "#d8576b"
             ],
             [
              0.6666666666666666,
              "#ed7953"
             ],
             [
              0.7777777777777778,
              "#fb9f3a"
             ],
             [
              0.8888888888888888,
              "#fdca26"
             ],
             [
              1,
              "#f0f921"
             ]
            ],
            "type": "contour"
           }
          ],
          "contourcarpet": [
           {
            "colorbar": {
             "outlinewidth": 0,
             "ticks": ""
            },
            "type": "contourcarpet"
           }
          ],
          "heatmap": [
           {
            "colorbar": {
             "outlinewidth": 0,
             "ticks": ""
            },
            "colorscale": [
             [
              0,
              "#0d0887"
             ],
             [
              0.1111111111111111,
              "#46039f"
             ],
             [
              0.2222222222222222,
              "#7201a8"
             ],
             [
              0.3333333333333333,
              "#9c179e"
             ],
             [
              0.4444444444444444,
              "#bd3786"
             ],
             [
              0.5555555555555556,
              "#d8576b"
             ],
             [
              0.6666666666666666,
              "#ed7953"
             ],
             [
              0.7777777777777778,
              "#fb9f3a"
             ],
             [
              0.8888888888888888,
              "#fdca26"
             ],
             [
              1,
              "#f0f921"
             ]
            ],
            "type": "heatmap"
           }
          ],
          "heatmapgl": [
           {
            "colorbar": {
             "outlinewidth": 0,
             "ticks": ""
            },
            "colorscale": [
             [
              0,
              "#0d0887"
             ],
             [
              0.1111111111111111,
              "#46039f"
             ],
             [
              0.2222222222222222,
              "#7201a8"
             ],
             [
              0.3333333333333333,
              "#9c179e"
             ],
             [
              0.4444444444444444,
              "#bd3786"
             ],
             [
              0.5555555555555556,
              "#d8576b"
             ],
             [
              0.6666666666666666,
              "#ed7953"
             ],
             [
              0.7777777777777778,
              "#fb9f3a"
             ],
             [
              0.8888888888888888,
              "#fdca26"
             ],
             [
              1,
              "#f0f921"
             ]
            ],
            "type": "heatmapgl"
           }
          ],
          "histogram": [
           {
            "marker": {
             "pattern": {
              "fillmode": "overlay",
              "size": 10,
              "solidity": 0.2
             }
            },
            "type": "histogram"
           }
          ],
          "histogram2d": [
           {
            "colorbar": {
             "outlinewidth": 0,
             "ticks": ""
            },
            "colorscale": [
             [
              0,
              "#0d0887"
             ],
             [
              0.1111111111111111,
              "#46039f"
             ],
             [
              0.2222222222222222,
              "#7201a8"
             ],
             [
              0.3333333333333333,
              "#9c179e"
             ],
             [
              0.4444444444444444,
              "#bd3786"
             ],
             [
              0.5555555555555556,
              "#d8576b"
             ],
             [
              0.6666666666666666,
              "#ed7953"
             ],
             [
              0.7777777777777778,
              "#fb9f3a"
             ],
             [
              0.8888888888888888,
              "#fdca26"
             ],
             [
              1,
              "#f0f921"
             ]
            ],
            "type": "histogram2d"
           }
          ],
          "histogram2dcontour": [
           {
            "colorbar": {
             "outlinewidth": 0,
             "ticks": ""
            },
            "colorscale": [
             [
              0,
              "#0d0887"
             ],
             [
              0.1111111111111111,
              "#46039f"
             ],
             [
              0.2222222222222222,
              "#7201a8"
             ],
             [
              0.3333333333333333,
              "#9c179e"
             ],
             [
              0.4444444444444444,
              "#bd3786"
             ],
             [
              0.5555555555555556,
              "#d8576b"
             ],
             [
              0.6666666666666666,
              "#ed7953"
             ],
             [
              0.7777777777777778,
              "#fb9f3a"
             ],
             [
              0.8888888888888888,
              "#fdca26"
             ],
             [
              1,
              "#f0f921"
             ]
            ],
            "type": "histogram2dcontour"
           }
          ],
          "mesh3d": [
           {
            "colorbar": {
             "outlinewidth": 0,
             "ticks": ""
            },
            "type": "mesh3d"
           }
          ],
          "parcoords": [
           {
            "line": {
             "colorbar": {
              "outlinewidth": 0,
              "ticks": ""
             }
            },
            "type": "parcoords"
           }
          ],
          "pie": [
           {
            "automargin": true,
            "type": "pie"
           }
          ],
          "scatter": [
           {
            "fillpattern": {
             "fillmode": "overlay",
             "size": 10,
             "solidity": 0.2
            },
            "type": "scatter"
           }
          ],
          "scatter3d": [
           {
            "line": {
             "colorbar": {
              "outlinewidth": 0,
              "ticks": ""
             }
            },
            "marker": {
             "colorbar": {
              "outlinewidth": 0,
              "ticks": ""
             }
            },
            "type": "scatter3d"
           }
          ],
          "scattercarpet": [
           {
            "marker": {
             "colorbar": {
              "outlinewidth": 0,
              "ticks": ""
             }
            },
            "type": "scattercarpet"
           }
          ],
          "scattergeo": [
           {
            "marker": {
             "colorbar": {
              "outlinewidth": 0,
              "ticks": ""
             }
            },
            "type": "scattergeo"
           }
          ],
          "scattergl": [
           {
            "marker": {
             "colorbar": {
              "outlinewidth": 0,
              "ticks": ""
             }
            },
            "type": "scattergl"
           }
          ],
          "scattermapbox": [
           {
            "marker": {
             "colorbar": {
              "outlinewidth": 0,
              "ticks": ""
             }
            },
            "type": "scattermapbox"
           }
          ],
          "scatterpolar": [
           {
            "marker": {
             "colorbar": {
              "outlinewidth": 0,
              "ticks": ""
             }
            },
            "type": "scatterpolar"
           }
          ],
          "scatterpolargl": [
           {
            "marker": {
             "colorbar": {
              "outlinewidth": 0,
              "ticks": ""
             }
            },
            "type": "scatterpolargl"
           }
          ],
          "scatterternary": [
           {
            "marker": {
             "colorbar": {
              "outlinewidth": 0,
              "ticks": ""
             }
            },
            "type": "scatterternary"
           }
          ],
          "surface": [
           {
            "colorbar": {
             "outlinewidth": 0,
             "ticks": ""
            },
            "colorscale": [
             [
              0,
              "#0d0887"
             ],
             [
              0.1111111111111111,
              "#46039f"
             ],
             [
              0.2222222222222222,
              "#7201a8"
             ],
             [
              0.3333333333333333,
              "#9c179e"
             ],
             [
              0.4444444444444444,
              "#bd3786"
             ],
             [
              0.5555555555555556,
              "#d8576b"
             ],
             [
              0.6666666666666666,
              "#ed7953"
             ],
             [
              0.7777777777777778,
              "#fb9f3a"
             ],
             [
              0.8888888888888888,
              "#fdca26"
             ],
             [
              1,
              "#f0f921"
             ]
            ],
            "type": "surface"
           }
          ],
          "table": [
           {
            "cells": {
             "fill": {
              "color": "#EBF0F8"
             },
             "line": {
              "color": "white"
             }
            },
            "header": {
             "fill": {
              "color": "#C8D4E3"
             },
             "line": {
              "color": "white"
             }
            },
            "type": "table"
           }
          ]
         },
         "layout": {
          "annotationdefaults": {
           "arrowcolor": "#2a3f5f",
           "arrowhead": 0,
           "arrowwidth": 1
          },
          "autotypenumbers": "strict",
          "coloraxis": {
           "colorbar": {
            "outlinewidth": 0,
            "ticks": ""
           }
          },
          "colorscale": {
           "diverging": [
            [
             0,
             "#8e0152"
            ],
            [
             0.1,
             "#c51b7d"
            ],
            [
             0.2,
             "#de77ae"
            ],
            [
             0.3,
             "#f1b6da"
            ],
            [
             0.4,
             "#fde0ef"
            ],
            [
             0.5,
             "#f7f7f7"
            ],
            [
             0.6,
             "#e6f5d0"
            ],
            [
             0.7,
             "#b8e186"
            ],
            [
             0.8,
             "#7fbc41"
            ],
            [
             0.9,
             "#4d9221"
            ],
            [
             1,
             "#276419"
            ]
           ],
           "sequential": [
            [
             0,
             "#0d0887"
            ],
            [
             0.1111111111111111,
             "#46039f"
            ],
            [
             0.2222222222222222,
             "#7201a8"
            ],
            [
             0.3333333333333333,
             "#9c179e"
            ],
            [
             0.4444444444444444,
             "#bd3786"
            ],
            [
             0.5555555555555556,
             "#d8576b"
            ],
            [
             0.6666666666666666,
             "#ed7953"
            ],
            [
             0.7777777777777778,
             "#fb9f3a"
            ],
            [
             0.8888888888888888,
             "#fdca26"
            ],
            [
             1,
             "#f0f921"
            ]
           ],
           "sequentialminus": [
            [
             0,
             "#0d0887"
            ],
            [
             0.1111111111111111,
             "#46039f"
            ],
            [
             0.2222222222222222,
             "#7201a8"
            ],
            [
             0.3333333333333333,
             "#9c179e"
            ],
            [
             0.4444444444444444,
             "#bd3786"
            ],
            [
             0.5555555555555556,
             "#d8576b"
            ],
            [
             0.6666666666666666,
             "#ed7953"
            ],
            [
             0.7777777777777778,
             "#fb9f3a"
            ],
            [
             0.8888888888888888,
             "#fdca26"
            ],
            [
             1,
             "#f0f921"
            ]
           ]
          },
          "colorway": [
           "#636efa",
           "#EF553B",
           "#00cc96",
           "#ab63fa",
           "#FFA15A",
           "#19d3f3",
           "#FF6692",
           "#B6E880",
           "#FF97FF",
           "#FECB52"
          ],
          "font": {
           "color": "#2a3f5f"
          },
          "geo": {
           "bgcolor": "white",
           "lakecolor": "white",
           "landcolor": "#E5ECF6",
           "showlakes": true,
           "showland": true,
           "subunitcolor": "white"
          },
          "hoverlabel": {
           "align": "left"
          },
          "hovermode": "closest",
          "mapbox": {
           "style": "light"
          },
          "paper_bgcolor": "white",
          "plot_bgcolor": "#E5ECF6",
          "polar": {
           "angularaxis": {
            "gridcolor": "white",
            "linecolor": "white",
            "ticks": ""
           },
           "bgcolor": "#E5ECF6",
           "radialaxis": {
            "gridcolor": "white",
            "linecolor": "white",
            "ticks": ""
           }
          },
          "scene": {
           "xaxis": {
            "backgroundcolor": "#E5ECF6",
            "gridcolor": "white",
            "gridwidth": 2,
            "linecolor": "white",
            "showbackground": true,
            "ticks": "",
            "zerolinecolor": "white"
           },
           "yaxis": {
            "backgroundcolor": "#E5ECF6",
            "gridcolor": "white",
            "gridwidth": 2,
            "linecolor": "white",
            "showbackground": true,
            "ticks": "",
            "zerolinecolor": "white"
           },
           "zaxis": {
            "backgroundcolor": "#E5ECF6",
            "gridcolor": "white",
            "gridwidth": 2,
            "linecolor": "white",
            "showbackground": true,
            "ticks": "",
            "zerolinecolor": "white"
           }
          },
          "shapedefaults": {
           "line": {
            "color": "#2a3f5f"
           }
          },
          "ternary": {
           "aaxis": {
            "gridcolor": "white",
            "linecolor": "white",
            "ticks": ""
           },
           "baxis": {
            "gridcolor": "white",
            "linecolor": "white",
            "ticks": ""
           },
           "bgcolor": "#E5ECF6",
           "caxis": {
            "gridcolor": "white",
            "linecolor": "white",
            "ticks": ""
           }
          },
          "title": {
           "x": 0.05
          },
          "xaxis": {
           "automargin": true,
           "gridcolor": "white",
           "linecolor": "white",
           "ticks": "",
           "title": {
            "standoff": 15
           },
           "zerolinecolor": "white",
           "zerolinewidth": 2
          },
          "yaxis": {
           "automargin": true,
           "gridcolor": "white",
           "linecolor": "white",
           "ticks": "",
           "title": {
            "standoff": 15
           },
           "zerolinecolor": "white",
           "zerolinewidth": 2
          }
         }
        },
        "xaxis": {
         "showgrid": false,
         "title": {
          "text": "Start Time (hours)"
         }
        },
        "yaxis": {
         "showgrid": false,
         "title": {
          "text": "Percentage"
         }
        },
        "yaxis2": {
         "overlaying": "y",
         "showgrid": false,
         "side": "right",
         "title": {
          "text": "Read Count"
         }
        }
       }
      },
      "text/html": [
       "<div>                            <div id=\"f6723407-6bcc-4357-a178-4489d43a3692\" class=\"plotly-graph-div\" style=\"height:525px; width:100%;\"></div>            <script type=\"text/javascript\">                require([\"plotly\"], function(Plotly) {                    window.PLOTLYENV=window.PLOTLYENV || {};                                    if (document.getElementById(\"f6723407-6bcc-4357-a178-4489d43a3692\")) {                    Plotly.newPlot(                        \"f6723407-6bcc-4357-a178-4489d43a3692\",                        [{\"marker\":{\"color\":\"blue\"},\"name\":\"no_decision\",\"x\":[0.5,1.0,1.5,2.0],\"y\":[25.0,35.714285714285715,26.666666666666668,26.666666666666668],\"yaxis\":\"y\",\"type\":\"bar\"},{\"marker\":{\"color\":\"green\"},\"name\":\"stop_receiving\",\"x\":[0.5,1.0,1.5,2.0],\"y\":[25.0,7.142857142857142,46.666666666666664,20.0],\"yaxis\":\"y\",\"type\":\"bar\"},{\"marker\":{\"color\":\"orange\"},\"name\":\"unblocked\",\"x\":[0.5,1.0,1.5,2.0],\"y\":[50.0,57.14285714285714,26.666666666666668,53.333333333333336],\"yaxis\":\"y\",\"type\":\"bar\"},{\"marker\":{\"color\":\"red\"},\"name\":\"mux_change\",\"x\":[],\"y\":[],\"yaxis\":\"y\",\"type\":\"bar\"},{\"line\":{\"color\":\"black\"},\"mode\":\"lines\",\"name\":\"Read Count\",\"visible\":true,\"x\":[0.5,1.0,1.5,2.0],\"y\":[24374,24080,23051,5012],\"yaxis\":\"y2\",\"type\":\"scatter\"}],                        {\"template\":{\"data\":{\"histogram2dcontour\":[{\"type\":\"histogram2dcontour\",\"colorbar\":{\"outlinewidth\":0,\"ticks\":\"\"},\"colorscale\":[[0.0,\"#0d0887\"],[0.1111111111111111,\"#46039f\"],[0.2222222222222222,\"#7201a8\"],[0.3333333333333333,\"#9c179e\"],[0.4444444444444444,\"#bd3786\"],[0.5555555555555556,\"#d8576b\"],[0.6666666666666666,\"#ed7953\"],[0.7777777777777778,\"#fb9f3a\"],[0.8888888888888888,\"#fdca26\"],[1.0,\"#f0f921\"]]}],\"choropleth\":[{\"type\":\"choropleth\",\"colorbar\":{\"outlinewidth\":0,\"ticks\":\"\"}}],\"histogram2d\":[{\"type\":\"histogram2d\",\"colorbar\":{\"outlinewidth\":0,\"ticks\":\"\"},\"colorscale\":[[0.0,\"#0d0887\"],[0.1111111111111111,\"#46039f\"],[0.2222222222222222,\"#7201a8\"],[0.3333333333333333,\"#9c179e\"],[0.4444444444444444,\"#bd3786\"],[0.5555555555555556,\"#d8576b\"],[0.6666666666666666,\"#ed7953\"],[0.7777777777777778,\"#fb9f3a\"],[0.8888888888888888,\"#fdca26\"],[1.0,\"#f0f921\"]]}],\"heatmap\":[{\"type\":\"heatmap\",\"colorbar\":{\"outlinewidth\":0,\"ticks\":\"\"},\"colorscale\":[[0.0,\"#0d0887\"],[0.1111111111111111,\"#46039f\"],[0.2222222222222222,\"#7201a8\"],[0.3333333333333333,\"#9c179e\"],[0.4444444444444444,\"#bd3786\"],[0.5555555555555556,\"#d8576b\"],[0.6666666666666666,\"#ed7953\"],[0.7777777777777778,\"#fb9f3a\"],[0.8888888888888888,\"#fdca26\"],[1.0,\"#f0f921\"]]}],\"heatmapgl\":[{\"type\":\"heatmapgl\",\"colorbar\":{\"outlinewidth\":0,\"ticks\":\"\"},\"colorscale\":[[0.0,\"#0d0887\"],[0.1111111111111111,\"#46039f\"],[0.2222222222222222,\"#7201a8\"],[0.3333333333333333,\"#9c179e\"],[0.4444444444444444,\"#bd3786\"],[0.5555555555555556,\"#d8576b\"],[0.6666666666666666,\"#ed7953\"],[0.7777777777777778,\"#fb9f3a\"],[0.8888888888888888,\"#fdca26\"],[1.0,\"#f0f921\"]]}],\"contourcarpet\":[{\"type\":\"contourcarpet\",\"colorbar\":{\"outlinewidth\":0,\"ticks\":\"\"}}],\"contour\":[{\"type\":\"contour\",\"colorbar\":{\"outlinewidth\":0,\"ticks\":\"\"},\"colorscale\":[[0.0,\"#0d0887\"],[0.1111111111111111,\"#46039f\"],[0.2222222222222222,\"#7201a8\"],[0.3333333333333333,\"#9c179e\"],[0.4444444444444444,\"#bd3786\"],[0.5555555555555556,\"#d8576b\"],[0.6666666666666666,\"#ed7953\"],[0.7777777777777778,\"#fb9f3a\"],[0.8888888888888888,\"#fdca26\"],[1.0,\"#f0f921\"]]}],\"surface\":[{\"type\":\"surface\",\"colorbar\":{\"outlinewidth\":0,\"ticks\":\"\"},\"colorscale\":[[0.0,\"#0d0887\"],[0.1111111111111111,\"#46039f\"],[0.2222222222222222,\"#7201a8\"],[0.3333333333333333,\"#9c179e\"],[0.4444444444444444,\"#bd3786\"],[0.5555555555555556,\"#d8576b\"],[0.6666666666666666,\"#ed7953\"],[0.7777777777777778,\"#fb9f3a\"],[0.8888888888888888,\"#fdca26\"],[1.0,\"#f0f921\"]]}],\"mesh3d\":[{\"type\":\"mesh3d\",\"colorbar\":{\"outlinewidth\":0,\"ticks\":\"\"}}],\"scatter\":[{\"fillpattern\":{\"fillmode\":\"overlay\",\"size\":10,\"solidity\":0.2},\"type\":\"scatter\"}],\"parcoords\":[{\"type\":\"parcoords\",\"line\":{\"colorbar\":{\"outlinewidth\":0,\"ticks\":\"\"}}}],\"scatterpolargl\":[{\"type\":\"scatterpolargl\",\"marker\":{\"colorbar\":{\"outlinewidth\":0,\"ticks\":\"\"}}}],\"bar\":[{\"error_x\":{\"color\":\"#2a3f5f\"},\"error_y\":{\"color\":\"#2a3f5f\"},\"marker\":{\"line\":{\"color\":\"#E5ECF6\",\"width\":0.5},\"pattern\":{\"fillmode\":\"overlay\",\"size\":10,\"solidity\":0.2}},\"type\":\"bar\"}],\"scattergeo\":[{\"type\":\"scattergeo\",\"marker\":{\"colorbar\":{\"outlinewidth\":0,\"ticks\":\"\"}}}],\"scatterpolar\":[{\"type\":\"scatterpolar\",\"marker\":{\"colorbar\":{\"outlinewidth\":0,\"ticks\":\"\"}}}],\"histogram\":[{\"marker\":{\"pattern\":{\"fillmode\":\"overlay\",\"size\":10,\"solidity\":0.2}},\"type\":\"histogram\"}],\"scattergl\":[{\"type\":\"scattergl\",\"marker\":{\"colorbar\":{\"outlinewidth\":0,\"ticks\":\"\"}}}],\"scatter3d\":[{\"type\":\"scatter3d\",\"line\":{\"colorbar\":{\"outlinewidth\":0,\"ticks\":\"\"}},\"marker\":{\"colorbar\":{\"outlinewidth\":0,\"ticks\":\"\"}}}],\"scattermapbox\":[{\"type\":\"scattermapbox\",\"marker\":{\"colorbar\":{\"outlinewidth\":0,\"ticks\":\"\"}}}],\"scatterternary\":[{\"type\":\"scatterternary\",\"marker\":{\"colorbar\":{\"outlinewidth\":0,\"ticks\":\"\"}}}],\"scattercarpet\":[{\"type\":\"scattercarpet\",\"marker\":{\"colorbar\":{\"outlinewidth\":0,\"ticks\":\"\"}}}],\"carpet\":[{\"aaxis\":{\"endlinecolor\":\"#2a3f5f\",\"gridcolor\":\"white\",\"linecolor\":\"white\",\"minorgridcolor\":\"white\",\"startlinecolor\":\"#2a3f5f\"},\"baxis\":{\"endlinecolor\":\"#2a3f5f\",\"gridcolor\":\"white\",\"linecolor\":\"white\",\"minorgridcolor\":\"white\",\"startlinecolor\":\"#2a3f5f\"},\"type\":\"carpet\"}],\"table\":[{\"cells\":{\"fill\":{\"color\":\"#EBF0F8\"},\"line\":{\"color\":\"white\"}},\"header\":{\"fill\":{\"color\":\"#C8D4E3\"},\"line\":{\"color\":\"white\"}},\"type\":\"table\"}],\"barpolar\":[{\"marker\":{\"line\":{\"color\":\"#E5ECF6\",\"width\":0.5},\"pattern\":{\"fillmode\":\"overlay\",\"size\":10,\"solidity\":0.2}},\"type\":\"barpolar\"}],\"pie\":[{\"automargin\":true,\"type\":\"pie\"}]},\"layout\":{\"autotypenumbers\":\"strict\",\"colorway\":[\"#636efa\",\"#EF553B\",\"#00cc96\",\"#ab63fa\",\"#FFA15A\",\"#19d3f3\",\"#FF6692\",\"#B6E880\",\"#FF97FF\",\"#FECB52\"],\"font\":{\"color\":\"#2a3f5f\"},\"hovermode\":\"closest\",\"hoverlabel\":{\"align\":\"left\"},\"paper_bgcolor\":\"white\",\"plot_bgcolor\":\"#E5ECF6\",\"polar\":{\"bgcolor\":\"#E5ECF6\",\"angularaxis\":{\"gridcolor\":\"white\",\"linecolor\":\"white\",\"ticks\":\"\"},\"radialaxis\":{\"gridcolor\":\"white\",\"linecolor\":\"white\",\"ticks\":\"\"}},\"ternary\":{\"bgcolor\":\"#E5ECF6\",\"aaxis\":{\"gridcolor\":\"white\",\"linecolor\":\"white\",\"ticks\":\"\"},\"baxis\":{\"gridcolor\":\"white\",\"linecolor\":\"white\",\"ticks\":\"\"},\"caxis\":{\"gridcolor\":\"white\",\"linecolor\":\"white\",\"ticks\":\"\"}},\"coloraxis\":{\"colorbar\":{\"outlinewidth\":0,\"ticks\":\"\"}},\"colorscale\":{\"sequential\":[[0.0,\"#0d0887\"],[0.1111111111111111,\"#46039f\"],[0.2222222222222222,\"#7201a8\"],[0.3333333333333333,\"#9c179e\"],[0.4444444444444444,\"#bd3786\"],[0.5555555555555556,\"#d8576b\"],[0.6666666666666666,\"#ed7953\"],[0.7777777777777778,\"#fb9f3a\"],[0.8888888888888888,\"#fdca26\"],[1.0,\"#f0f921\"]],\"sequentialminus\":[[0.0,\"#0d0887\"],[0.1111111111111111,\"#46039f\"],[0.2222222222222222,\"#7201a8\"],[0.3333333333333333,\"#9c179e\"],[0.4444444444444444,\"#bd3786\"],[0.5555555555555556,\"#d8576b\"],[0.6666666666666666,\"#ed7953\"],[0.7777777777777778,\"#fb9f3a\"],[0.8888888888888888,\"#fdca26\"],[1.0,\"#f0f921\"]],\"diverging\":[[0,\"#8e0152\"],[0.1,\"#c51b7d\"],[0.2,\"#de77ae\"],[0.3,\"#f1b6da\"],[0.4,\"#fde0ef\"],[0.5,\"#f7f7f7\"],[0.6,\"#e6f5d0\"],[0.7,\"#b8e186\"],[0.8,\"#7fbc41\"],[0.9,\"#4d9221\"],[1,\"#276419\"]]},\"xaxis\":{\"gridcolor\":\"white\",\"linecolor\":\"white\",\"ticks\":\"\",\"title\":{\"standoff\":15},\"zerolinecolor\":\"white\",\"automargin\":true,\"zerolinewidth\":2},\"yaxis\":{\"gridcolor\":\"white\",\"linecolor\":\"white\",\"ticks\":\"\",\"title\":{\"standoff\":15},\"zerolinecolor\":\"white\",\"automargin\":true,\"zerolinewidth\":2},\"scene\":{\"xaxis\":{\"backgroundcolor\":\"#E5ECF6\",\"gridcolor\":\"white\",\"linecolor\":\"white\",\"showbackground\":true,\"ticks\":\"\",\"zerolinecolor\":\"white\",\"gridwidth\":2},\"yaxis\":{\"backgroundcolor\":\"#E5ECF6\",\"gridcolor\":\"white\",\"linecolor\":\"white\",\"showbackground\":true,\"ticks\":\"\",\"zerolinecolor\":\"white\",\"gridwidth\":2},\"zaxis\":{\"backgroundcolor\":\"#E5ECF6\",\"gridcolor\":\"white\",\"linecolor\":\"white\",\"showbackground\":true,\"ticks\":\"\",\"zerolinecolor\":\"white\",\"gridwidth\":2}},\"shapedefaults\":{\"line\":{\"color\":\"#2a3f5f\"}},\"annotationdefaults\":{\"arrowcolor\":\"#2a3f5f\",\"arrowhead\":0,\"arrowwidth\":1},\"geo\":{\"bgcolor\":\"white\",\"landcolor\":\"#E5ECF6\",\"subunitcolor\":\"white\",\"showland\":true,\"showlakes\":true,\"lakecolor\":\"white\"},\"title\":{\"x\":0.05},\"mapbox\":{\"style\":\"light\"}}},\"xaxis\":{\"showgrid\":false,\"title\":{\"text\":\"Start Time (hours)\"}},\"yaxis\":{\"showgrid\":false,\"title\":{\"text\":\"Percentage\"}},\"yaxis2\":{\"showgrid\":false,\"title\":{\"text\":\"Read Count\"},\"overlaying\":\"y\",\"side\":\"right\"},\"legend\":{\"orientation\":\"h\",\"yanchor\":\"top\",\"y\":1.05,\"xanchor\":\"right\",\"x\":1},\"margin\":{\"t\":50,\"b\":50},\"barmode\":\"stack\",\"plot_bgcolor\":\"white\"},                        {\"responsive\": true}                    ).then(function(){\n",
       "                            \n",
       "var gd = document.getElementById('f6723407-6bcc-4357-a178-4489d43a3692');\n",
       "var x = new MutationObserver(function (mutations, observer) {{\n",
       "        var display = window.getComputedStyle(gd).display;\n",
       "        if (!display || display === 'none') {{\n",
       "            console.log([gd, 'removed!']);\n",
       "            Plotly.purge(gd);\n",
       "            observer.disconnect();\n",
       "        }}\n",
       "}});\n",
       "\n",
       "// Listen for the removal of the full notebook cells\n",
       "var notebookContainer = gd.closest('#notebook-container');\n",
       "if (notebookContainer) {{\n",
       "    x.observe(notebookContainer, {childList: true});\n",
       "}}\n",
       "\n",
       "// Listen for the clearing of the current output cell\n",
       "var outputEl = gd.closest('.output');\n",
       "if (outputEl) {{\n",
       "    x.observe(outputEl, {childList: true});\n",
       "}}\n",
       "\n",
       "                        })                };                });            </script>        </div>"
      ]
     },
     "metadata": {},
     "output_type": "display_data"
    },
    {
     "name": "stdout",
     "output_type": "stream",
     "text": [
      "DatetimeIndex(['1970-01-01 00:30:00', '1970-01-01 01:00:00',\n",
      "               '1970-01-01 01:30:00', '1970-01-01 02:00:00'],\n",
      "              dtype='datetime64[ns]', name='start_time', freq='30T')\n"
     ]
    }
   ],
   "source": [
    "import pandas as pd\n",
    "import plotly.graph_objects as go\n",
    "\n",
    "# Read the tab-separated txt file into a pandas DataFrame\n",
    "data = pd.read_csv('/home/ameknas/sequenoscope-1/test_SE/sample_manifest.txt', sep='\\t')\n",
    "\n",
    "# Convert the 'start_time' column to datetime format\n",
    "data['start_time'] = pd.to_datetime(data['start_time'])\n",
    "\n",
    "total_count_2 = data.groupby('start_time').size().reset_index(name='total_count')\n",
    "\n",
    "# Calculate the count for each decision at each start time\n",
    "decision_count = data.groupby(['start_time', 'decision']).size().reset_index(name='count')\n",
    "\n",
    "# Define the decision mapping dictionary\n",
    "classes = {\n",
    "    \"stop_receiving\": [\"signal_positive\"],\n",
    "    \"unblocked\": [\"data_service_unblock_mux_change\"],\n",
    "    \"no_decision\": [\"signal_negative\", \"unblock_mux_change\"]\n",
    "}\n",
    "\n",
    "# Map the decisions based on the dictionary\n",
    "decision_count['decision'] = decision_count['decision'].map(lambda x: next((k for k, v in classes.items() if x in v), x))\n",
    "\n",
    "# Calculate the total count at each start time\n",
    "total_count = decision_count.groupby('start_time')['count'].sum().reset_index(name='total_count')\n",
    "\n",
    "# Calculate the percentage for each decision at each start time\n",
    "decision_count = decision_count.merge(total_count, on='start_time')\n",
    "decision_count['percentage'] = decision_count['count'] / decision_count['total_count'] * 100\n",
    "\n",
    "# Calculate the maximum count for scaling the second y-axis\n",
    "max_count = total_count_2[\"total_count\"].max()\n",
    "\n",
    "# Define the time bin unit and selected unit\n",
    "time_bin_unit = 'hours'\n",
    "\n",
    "# Convert the x-axis units to the desired time bin\n",
    "convert_time_units = lambda x: pd.to_timedelta(x, unit='s') / pd.Timedelta('1{}'.format(time_bin_unit))\n",
    "\n",
    "# Create lists to store the x-axis values for the bar chart\n",
    "x_values = []\n",
    "\n",
    "# Create the second y-axis trace\n",
    "df = pd.read_csv('/home/ameknas/sequenoscope-1/test_SE/sample_manifest.txt', sep='\\t')\n",
    "df['start_time'] = pd.to_datetime(df['start_time'], unit='s')\n",
    "df.set_index('start_time', inplace=True)\n",
    "if time_bin_unit == \"hours\":\n",
    "    hourly_counts = df.resample('30T').count()\n",
    "elif time_bin_unit == \"minutes\":\n",
    "    hourly_counts = df.resample('1T').count()\n",
    "elif time_bin_unit == \"seconds\":\n",
    "    hourly_counts = df.resample('1S').count()\n",
    "\n",
    "\n",
    "# Remove time 0 from hourly_counts\n",
    "hourly_counts = hourly_counts[hourly_counts.index != pd.to_datetime(0)]\n",
    "count_values = hourly_counts['read_id'].tolist()\n",
    "\n",
    "# Create the stacked bar chart\n",
    "fig = go.Figure()\n",
    "\n",
    "# Add bar traces for each decision\n",
    "color_palette = ['blue', 'green', 'orange', 'red']  # Define a custom color palette for the decisions\n",
    "for idx, decision in enumerate(decision_count['decision'].unique()):\n",
    "    filtered_data = decision_count[decision_count['decision'] == decision]\n",
    "    filtered_data['start_time_numeric'] = filtered_data['start_time'].astype(int)\n",
    "\n",
    "    # Filter the data to display only the desired points on the x-axis\n",
    "    if time_bin_unit == \"hours\":\n",
    "        filtered_data = filtered_data[\n",
    "            (filtered_data['start_time_numeric'] % 3600 == 0) | (filtered_data['start_time_numeric'] % 1800 == 0) | (filtered_data['start_time_numeric'] == 0)\n",
    "            ]\n",
    "    elif time_bin_unit == \"minutes\":\n",
    "        filtered_data = filtered_data[(filtered_data['start_time_numeric'] % 60 == 0)]\n",
    "\n",
    "    x_values.extend(filtered_data['start_time_numeric'].map(convert_time_units))  # Store the x-axis values\n",
    "\n",
    "    fig.add_trace(go.Bar(x=filtered_data['start_time_numeric'].map(convert_time_units),\n",
    "                         y=filtered_data['percentage'],\n",
    "                         name=decision,\n",
    "                         marker_color=color_palette[idx],\n",
    "                         yaxis='y'))\n",
    "    \n",
    "x_values= list(pd.unique(x_values))\n",
    "    \n",
    "if time_bin_unit == 'hours' or time_bin_unit == 'minutes':\n",
    "    fig.add_trace(go.Scatter(x=x_values,\n",
    "                            y=hourly_counts['read_id'],\n",
    "                            name='Read Count',\n",
    "                            mode='lines',\n",
    "                            line=dict(color='black'),\n",
    "                            visible=True,\n",
    "                            yaxis='y2'))\n",
    "elif time_bin_unit == 'seconds':\n",
    "    total_count_2['start_time_numeric'] = total_count_2['start_time'].astype(int)\n",
    "    fig.add_trace(go.Scatter(x=total_count_2['start_time_numeric'].astype(int).map(convert_time_units),\n",
    "                        y=total_count_2['total_count'],\n",
    "                        name='Read Count',\n",
    "                        mode='lines',\n",
    "                        line=dict(color='black'),\n",
    "                        visible=True,\n",
    "                        yaxis='y2'))\n",
    "\n",
    "# Configure the plot layout\n",
    "fig.update_layout(\n",
    "    barmode='stack',\n",
    "    plot_bgcolor='white',\n",
    "    xaxis=dict(showgrid=False, title='Start Time ({})'.format(time_bin_unit)),\n",
    "    yaxis=dict(showgrid=False, title='Percentage'),\n",
    "    yaxis2=dict(showgrid=False, title='Read Count', overlaying='y', side='right'),  # Set the range of the second y-axis\n",
    "    legend=dict(\n",
    "        orientation='h',\n",
    "        yanchor='top',\n",
    "        y=1.05,\n",
    "        xanchor='right',\n",
    "        x=1\n",
    "    ),\n",
    "    margin=dict(t=50, b=50)\n",
    ")\n",
    "\n",
    "# Display the stacked bar chart\n",
    "fig.show()\n",
    "# print((x_values))\n",
    "print((hourly_counts.index))\n",
    "# print(len(count_values))"
   ]
  },
  {
   "cell_type": "code",
   "execution_count": 164,
   "metadata": {},
   "outputs": [
    {
     "name": "stderr",
     "output_type": "stream",
     "text": [
      "/home/ameknas/anaconda3/lib/python3.7/site-packages/ipykernel_launcher.py:66: SettingWithCopyWarning:\n",
      "\n",
      "\n",
      "A value is trying to be set on a copy of a slice from a DataFrame.\n",
      "Try using .loc[row_indexer,col_indexer] = value instead\n",
      "\n",
      "See the caveats in the documentation: https://pandas.pydata.org/pandas-docs/stable/user_guide/indexing.html#returning-a-view-versus-a-copy\n",
      "\n"
     ]
    },
    {
     "data": {
      "text/html": [
       "<div>\n",
       "<style scoped>\n",
       "    .dataframe tbody tr th:only-of-type {\n",
       "        vertical-align: middle;\n",
       "    }\n",
       "\n",
       "    .dataframe tbody tr th {\n",
       "        vertical-align: top;\n",
       "    }\n",
       "\n",
       "    .dataframe thead th {\n",
       "        text-align: right;\n",
       "    }\n",
       "</style>\n",
       "<table border=\"1\" class=\"dataframe\">\n",
       "  <thead>\n",
       "    <tr style=\"text-align: right;\">\n",
       "      <th></th>\n",
       "      <th>start_time</th>\n",
       "      <th>decision</th>\n",
       "      <th>count</th>\n",
       "      <th>total_count</th>\n",
       "      <th>percentage</th>\n",
       "      <th>start_time_numeric</th>\n",
       "    </tr>\n",
       "  </thead>\n",
       "  <tbody>\n",
       "    <tr>\n",
       "      <th>22233</th>\n",
       "      <td>1970-01-01 00:00:00.000007539</td>\n",
       "      <td>unblocked</td>\n",
       "      <td>6</td>\n",
       "      <td>20</td>\n",
       "      <td>30.000000</td>\n",
       "      <td>7539</td>\n",
       "    </tr>\n",
       "    <tr>\n",
       "      <th>22234</th>\n",
       "      <td>1970-01-01 00:00:00.000007539</td>\n",
       "      <td>mux_change</td>\n",
       "      <td>3</td>\n",
       "      <td>20</td>\n",
       "      <td>15.000000</td>\n",
       "      <td>7539</td>\n",
       "    </tr>\n",
       "    <tr>\n",
       "      <th>22235</th>\n",
       "      <td>1970-01-01 00:00:00.000007539</td>\n",
       "      <td>no_decision</td>\n",
       "      <td>11</td>\n",
       "      <td>20</td>\n",
       "      <td>55.000000</td>\n",
       "      <td>7539</td>\n",
       "    </tr>\n",
       "    <tr>\n",
       "      <th>22236</th>\n",
       "      <td>1970-01-01 00:00:00.000007540</td>\n",
       "      <td>unblocked</td>\n",
       "      <td>4</td>\n",
       "      <td>15</td>\n",
       "      <td>26.666667</td>\n",
       "      <td>7540</td>\n",
       "    </tr>\n",
       "    <tr>\n",
       "      <th>22237</th>\n",
       "      <td>1970-01-01 00:00:00.000007540</td>\n",
       "      <td>mux_change</td>\n",
       "      <td>4</td>\n",
       "      <td>15</td>\n",
       "      <td>26.666667</td>\n",
       "      <td>7540</td>\n",
       "    </tr>\n",
       "    <tr>\n",
       "      <th>22238</th>\n",
       "      <td>1970-01-01 00:00:00.000007540</td>\n",
       "      <td>no_decision</td>\n",
       "      <td>5</td>\n",
       "      <td>15</td>\n",
       "      <td>33.333333</td>\n",
       "      <td>7540</td>\n",
       "    </tr>\n",
       "    <tr>\n",
       "      <th>22239</th>\n",
       "      <td>1970-01-01 00:00:00.000007540</td>\n",
       "      <td>stop_receiving</td>\n",
       "      <td>2</td>\n",
       "      <td>15</td>\n",
       "      <td>13.333333</td>\n",
       "      <td>7540</td>\n",
       "    </tr>\n",
       "    <tr>\n",
       "      <th>22240</th>\n",
       "      <td>1970-01-01 00:00:00.000007541</td>\n",
       "      <td>mux_change</td>\n",
       "      <td>7</td>\n",
       "      <td>7</td>\n",
       "      <td>100.000000</td>\n",
       "      <td>7541</td>\n",
       "    </tr>\n",
       "  </tbody>\n",
       "</table>\n",
       "</div>"
      ],
      "text/plain": [
       "                         start_time        decision  count  total_count  \\\n",
       "22233 1970-01-01 00:00:00.000007539       unblocked      6           20   \n",
       "22234 1970-01-01 00:00:00.000007539      mux_change      3           20   \n",
       "22235 1970-01-01 00:00:00.000007539     no_decision     11           20   \n",
       "22236 1970-01-01 00:00:00.000007540       unblocked      4           15   \n",
       "22237 1970-01-01 00:00:00.000007540      mux_change      4           15   \n",
       "22238 1970-01-01 00:00:00.000007540     no_decision      5           15   \n",
       "22239 1970-01-01 00:00:00.000007540  stop_receiving      2           15   \n",
       "22240 1970-01-01 00:00:00.000007541      mux_change      7            7   \n",
       "\n",
       "       percentage  start_time_numeric  \n",
       "22233   30.000000                7539  \n",
       "22234   15.000000                7539  \n",
       "22235   55.000000                7539  \n",
       "22236   26.666667                7540  \n",
       "22237   26.666667                7540  \n",
       "22238   33.333333                7540  \n",
       "22239   13.333333                7540  \n",
       "22240  100.000000                7541  "
      ]
     },
     "execution_count": 164,
     "metadata": {},
     "output_type": "execute_result"
    }
   ],
   "source": [
    "import pandas as pd\n",
    "import plotly.graph_objects as go\n",
    "\n",
    "# Read the tab-separated txt file into a pandas DataFrame\n",
    "data = pd.read_csv('/home/ameknas/sequenoscope-1/test_SE/sample_manifest.txt', sep='\\t')\n",
    "\n",
    "# Convert the 'start_time' column to datetime format\n",
    "data['start_time'] = pd.to_datetime(data['start_time'])\n",
    "\n",
    "total_count_2 = data.groupby('start_time').size().reset_index(name='total_count')\n",
    "\n",
    "# Calculate the count for each decision at each start time\n",
    "decision_count = data.groupby(['start_time', 'decision']).size().reset_index(name='count')\n",
    "\n",
    "# Define the decision mapping dictionary\n",
    "classes = {\n",
    "    \"stop_receiving\": [\"signal_positive\"],\n",
    "    \"unblocked\": [\"data_service_unblock_mux_change\"],\n",
    "    \"no_decision\": [\"signal_negative\", \"unblock_mux_change\"]\n",
    "}\n",
    "\n",
    "# Map the decisions based on the dictionary\n",
    "decision_count['decision'] = decision_count['decision'].map(lambda x: next((k for k, v in classes.items() if x in v), x))\n",
    "\n",
    "# Calculate the total count at each start time\n",
    "total_count = decision_count.groupby('start_time')['count'].sum().reset_index(name='total_count')\n",
    "\n",
    "# Calculate the percentage for each decision at each start time\n",
    "decision_count = decision_count.merge(total_count, on='start_time')\n",
    "decision_count['percentage'] = decision_count['count'] / decision_count['total_count'] * 100\n",
    "\n",
    "# Calculate the maximum count for scaling the second y-axis\n",
    "max_count = total_count_2[\"total_count\"].max()\n",
    "\n",
    "# Define the time bin unit and selected unit\n",
    "time_bin_unit = 'hours'\n",
    "\n",
    "# Convert the x-axis units to the desired time bin\n",
    "convert_time_units = lambda x: pd.to_timedelta(x, unit='s') / pd.Timedelta('1{}'.format(time_bin_unit))\n",
    "\n",
    "# Create lists to store the x-axis values for the bar chart\n",
    "x_values = []\n",
    "\n",
    "# Create the second y-axis trace\n",
    "df = pd.read_csv('/home/ameknas/sequenoscope-1/test_SE/sample_manifest.txt', sep='\\t')\n",
    "df['start_time'] = pd.to_datetime(df['start_time'], unit='s')\n",
    "df.set_index('start_time', inplace=True)\n",
    "if time_bin_unit == \"hours\":\n",
    "    hourly_counts = df.resample('30T').count()\n",
    "elif time_bin_unit == \"minutes\":\n",
    "    hourly_counts = df.resample('1T').count()\n",
    "elif time_bin_unit == \"seconds\":\n",
    "    hourly_counts = df.resample('1S').count()\n",
    "\n",
    "# Remove time 0 from hourly_counts\n",
    "hourly_counts = hourly_counts[hourly_counts.index != pd.to_datetime(0)]\n",
    "count_values = hourly_counts['read_id'].tolist()\n",
    "\n",
    "# Create the stacked bar chart\n",
    "fig = go.Figure()\n",
    "\n",
    "# Add bar traces for each decision\n",
    "color_palette = ['blue', 'green', 'orange', 'red']  # Define a custom color palette for the decisions\n",
    "for idx, decision in enumerate(decision_count['decision'].unique()):\n",
    "    filtered_data = decision_count[decision_count['decision'] == decision]\n",
    "    filtered_data['start_time_numeric'] = filtered_data['start_time'].astype(int)\n",
    "\n",
    "    # Filter the data to display only the desired points on the x-axis\n",
    "    if time_bin_unit == \"hours\":\n",
    "        filtered_data = filtered_data[\n",
    "            (filtered_data['start_time_numeric'] % 3600 == 0) | (filtered_data['start_time_numeric'] % 1800 == 0) | (filtered_data['start_time_numeric'] == 0)\n",
    "            ]\n",
    "    elif time_bin_unit == \"minutes\":\n",
    "        filtered_data = filtered_data[(filtered_data['start_time_numeric'] % 60 == 0)]\n",
    "\n",
    "    x_values.extend(filtered_data['start_time_numeric'].map(convert_time_units))  # Store the x-axis values\n",
    "\n",
    "    fig.add_trace(go.Bar(x=filtered_data['start_time_numeric'].map(convert_time_units),\n",
    "                         y=filtered_data['percentage'],\n",
    "                         name=decision,\n",
    "                         marker_color=color_palette[idx],\n",
    "                         yaxis='y'))\n",
    "\n",
    "x_values = list(pd.unique(x_values))\n",
    "\n",
    "if time_bin_unit == 'hours' or time_bin_unit == 'minutes':\n",
    "    cumulative_counts = hourly_counts['read_id'].cumsum()\n",
    "    fig.add_trace(go.Scatter(x=x_values,\n",
    "                             y=cumulative_counts,\n",
    "                             name='Read Count',\n",
    "                             mode='lines',\n",
    "                             line=dict(color='black'),\n",
    "                             visible=True,\n",
    "                             yaxis='y2'))\n",
    "elif time_bin_unit == 'seconds':\n",
    "    total_count_2['start_time_numeric'] = total_count_2['start_time'].astype(int)\n",
    "    cumulative_counts = total_count_2['total_count'].cumsum()\n",
    "    fig.add_trace(go.Scatter(x=total_count_2['start_time_numeric'].astype(int).map(convert_time_units),\n",
    "                             y=cumulative_counts,\n",
    "                             name='Read Count',\n",
    "                             mode='lines',\n",
    "                             line=dict(color='black'),\n",
    "                             visible=True,\n",
    "                             yaxis='y2'))\n",
    "\n",
    "# Configure the plot layout\n",
    "fig.update_layout(\n",
    "    barmode='stack',\n",
    "    plot_bgcolor='white',\n",
    "    xaxis=dict(showgrid=False, title='Start Time ({})'.format(time_bin_unit)),\n",
    "    yaxis=dict(showgrid=False, title='Percentage'),\n",
    "    yaxis2=dict(showgrid=False, title='Cumulative Read Count', overlaying='y', side='right'),  # Set the range of the second y-axis\n",
    "    legend=dict(\n",
    "        orientation='h',\n",
    "        yanchor='top',\n",
    "        y=1.05,\n",
    "        xanchor='right',\n",
    "        x=1\n",
    "    ),\n",
    "    margin=dict(t=50, b=50)\n",
    ")\n",
    "\n",
    "# Display the stacked bar chart\n",
    "#fig.show()\n",
    "#decision\n",
    "decision_count['start_time_numeric'] = decision_count['start_time'].astype(int)\n",
    "decision_count.tail(8)\n",
    "\n"
   ]
  },
  {
   "cell_type": "code",
   "execution_count": 147,
   "metadata": {},
   "outputs": [
    {
     "data": {
      "application/vnd.plotly.v1+json": {
       "config": {
        "plotlyServerURL": "https://plot.ly"
       },
       "data": [
        {
         "marker": {
          "color": [
           "#FECB52",
           "#FECB52",
           "#FECB52",
           "#FECB52",
           "#FECB52"
          ]
         },
         "name": "",
         "text": [
          42.56901059859084,
          25.515458773277977,
          31.09618570487615,
          0.767449751501966,
          0.0518951717530598
         ],
         "textposition": "auto",
         "type": "bar",
         "x": [
          "1970-01-01T00:00:00"
         ],
         "y": [
          42.56901059859084,
          25.515458773277977,
          31.09618570487615,
          0.767449751501966,
          0.0518951717530598
         ]
        }
       ],
       "layout": {
        "barmode": "stack",
        "legend": {
         "title": {
          "text": "Decision"
         }
        },
        "template": {
         "data": {
          "bar": [
           {
            "error_x": {
             "color": "#2a3f5f"
            },
            "error_y": {
             "color": "#2a3f5f"
            },
            "marker": {
             "line": {
              "color": "#E5ECF6",
              "width": 0.5
             },
             "pattern": {
              "fillmode": "overlay",
              "size": 10,
              "solidity": 0.2
             }
            },
            "type": "bar"
           }
          ],
          "barpolar": [
           {
            "marker": {
             "line": {
              "color": "#E5ECF6",
              "width": 0.5
             },
             "pattern": {
              "fillmode": "overlay",
              "size": 10,
              "solidity": 0.2
             }
            },
            "type": "barpolar"
           }
          ],
          "carpet": [
           {
            "aaxis": {
             "endlinecolor": "#2a3f5f",
             "gridcolor": "white",
             "linecolor": "white",
             "minorgridcolor": "white",
             "startlinecolor": "#2a3f5f"
            },
            "baxis": {
             "endlinecolor": "#2a3f5f",
             "gridcolor": "white",
             "linecolor": "white",
             "minorgridcolor": "white",
             "startlinecolor": "#2a3f5f"
            },
            "type": "carpet"
           }
          ],
          "choropleth": [
           {
            "colorbar": {
             "outlinewidth": 0,
             "ticks": ""
            },
            "type": "choropleth"
           }
          ],
          "contour": [
           {
            "colorbar": {
             "outlinewidth": 0,
             "ticks": ""
            },
            "colorscale": [
             [
              0,
              "#0d0887"
             ],
             [
              0.1111111111111111,
              "#46039f"
             ],
             [
              0.2222222222222222,
              "#7201a8"
             ],
             [
              0.3333333333333333,
              "#9c179e"
             ],
             [
              0.4444444444444444,
              "#bd3786"
             ],
             [
              0.5555555555555556,
              "#d8576b"
             ],
             [
              0.6666666666666666,
              "#ed7953"
             ],
             [
              0.7777777777777778,
              "#fb9f3a"
             ],
             [
              0.8888888888888888,
              "#fdca26"
             ],
             [
              1,
              "#f0f921"
             ]
            ],
            "type": "contour"
           }
          ],
          "contourcarpet": [
           {
            "colorbar": {
             "outlinewidth": 0,
             "ticks": ""
            },
            "type": "contourcarpet"
           }
          ],
          "heatmap": [
           {
            "colorbar": {
             "outlinewidth": 0,
             "ticks": ""
            },
            "colorscale": [
             [
              0,
              "#0d0887"
             ],
             [
              0.1111111111111111,
              "#46039f"
             ],
             [
              0.2222222222222222,
              "#7201a8"
             ],
             [
              0.3333333333333333,
              "#9c179e"
             ],
             [
              0.4444444444444444,
              "#bd3786"
             ],
             [
              0.5555555555555556,
              "#d8576b"
             ],
             [
              0.6666666666666666,
              "#ed7953"
             ],
             [
              0.7777777777777778,
              "#fb9f3a"
             ],
             [
              0.8888888888888888,
              "#fdca26"
             ],
             [
              1,
              "#f0f921"
             ]
            ],
            "type": "heatmap"
           }
          ],
          "heatmapgl": [
           {
            "colorbar": {
             "outlinewidth": 0,
             "ticks": ""
            },
            "colorscale": [
             [
              0,
              "#0d0887"
             ],
             [
              0.1111111111111111,
              "#46039f"
             ],
             [
              0.2222222222222222,
              "#7201a8"
             ],
             [
              0.3333333333333333,
              "#9c179e"
             ],
             [
              0.4444444444444444,
              "#bd3786"
             ],
             [
              0.5555555555555556,
              "#d8576b"
             ],
             [
              0.6666666666666666,
              "#ed7953"
             ],
             [
              0.7777777777777778,
              "#fb9f3a"
             ],
             [
              0.8888888888888888,
              "#fdca26"
             ],
             [
              1,
              "#f0f921"
             ]
            ],
            "type": "heatmapgl"
           }
          ],
          "histogram": [
           {
            "marker": {
             "pattern": {
              "fillmode": "overlay",
              "size": 10,
              "solidity": 0.2
             }
            },
            "type": "histogram"
           }
          ],
          "histogram2d": [
           {
            "colorbar": {
             "outlinewidth": 0,
             "ticks": ""
            },
            "colorscale": [
             [
              0,
              "#0d0887"
             ],
             [
              0.1111111111111111,
              "#46039f"
             ],
             [
              0.2222222222222222,
              "#7201a8"
             ],
             [
              0.3333333333333333,
              "#9c179e"
             ],
             [
              0.4444444444444444,
              "#bd3786"
             ],
             [
              0.5555555555555556,
              "#d8576b"
             ],
             [
              0.6666666666666666,
              "#ed7953"
             ],
             [
              0.7777777777777778,
              "#fb9f3a"
             ],
             [
              0.8888888888888888,
              "#fdca26"
             ],
             [
              1,
              "#f0f921"
             ]
            ],
            "type": "histogram2d"
           }
          ],
          "histogram2dcontour": [
           {
            "colorbar": {
             "outlinewidth": 0,
             "ticks": ""
            },
            "colorscale": [
             [
              0,
              "#0d0887"
             ],
             [
              0.1111111111111111,
              "#46039f"
             ],
             [
              0.2222222222222222,
              "#7201a8"
             ],
             [
              0.3333333333333333,
              "#9c179e"
             ],
             [
              0.4444444444444444,
              "#bd3786"
             ],
             [
              0.5555555555555556,
              "#d8576b"
             ],
             [
              0.6666666666666666,
              "#ed7953"
             ],
             [
              0.7777777777777778,
              "#fb9f3a"
             ],
             [
              0.8888888888888888,
              "#fdca26"
             ],
             [
              1,
              "#f0f921"
             ]
            ],
            "type": "histogram2dcontour"
           }
          ],
          "mesh3d": [
           {
            "colorbar": {
             "outlinewidth": 0,
             "ticks": ""
            },
            "type": "mesh3d"
           }
          ],
          "parcoords": [
           {
            "line": {
             "colorbar": {
              "outlinewidth": 0,
              "ticks": ""
             }
            },
            "type": "parcoords"
           }
          ],
          "pie": [
           {
            "automargin": true,
            "type": "pie"
           }
          ],
          "scatter": [
           {
            "fillpattern": {
             "fillmode": "overlay",
             "size": 10,
             "solidity": 0.2
            },
            "type": "scatter"
           }
          ],
          "scatter3d": [
           {
            "line": {
             "colorbar": {
              "outlinewidth": 0,
              "ticks": ""
             }
            },
            "marker": {
             "colorbar": {
              "outlinewidth": 0,
              "ticks": ""
             }
            },
            "type": "scatter3d"
           }
          ],
          "scattercarpet": [
           {
            "marker": {
             "colorbar": {
              "outlinewidth": 0,
              "ticks": ""
             }
            },
            "type": "scattercarpet"
           }
          ],
          "scattergeo": [
           {
            "marker": {
             "colorbar": {
              "outlinewidth": 0,
              "ticks": ""
             }
            },
            "type": "scattergeo"
           }
          ],
          "scattergl": [
           {
            "marker": {
             "colorbar": {
              "outlinewidth": 0,
              "ticks": ""
             }
            },
            "type": "scattergl"
           }
          ],
          "scattermapbox": [
           {
            "marker": {
             "colorbar": {
              "outlinewidth": 0,
              "ticks": ""
             }
            },
            "type": "scattermapbox"
           }
          ],
          "scatterpolar": [
           {
            "marker": {
             "colorbar": {
              "outlinewidth": 0,
              "ticks": ""
             }
            },
            "type": "scatterpolar"
           }
          ],
          "scatterpolargl": [
           {
            "marker": {
             "colorbar": {
              "outlinewidth": 0,
              "ticks": ""
             }
            },
            "type": "scatterpolargl"
           }
          ],
          "scatterternary": [
           {
            "marker": {
             "colorbar": {
              "outlinewidth": 0,
              "ticks": ""
             }
            },
            "type": "scatterternary"
           }
          ],
          "surface": [
           {
            "colorbar": {
             "outlinewidth": 0,
             "ticks": ""
            },
            "colorscale": [
             [
              0,
              "#0d0887"
             ],
             [
              0.1111111111111111,
              "#46039f"
             ],
             [
              0.2222222222222222,
              "#7201a8"
             ],
             [
              0.3333333333333333,
              "#9c179e"
             ],
             [
              0.4444444444444444,
              "#bd3786"
             ],
             [
              0.5555555555555556,
              "#d8576b"
             ],
             [
              0.6666666666666666,
              "#ed7953"
             ],
             [
              0.7777777777777778,
              "#fb9f3a"
             ],
             [
              0.8888888888888888,
              "#fdca26"
             ],
             [
              1,
              "#f0f921"
             ]
            ],
            "type": "surface"
           }
          ],
          "table": [
           {
            "cells": {
             "fill": {
              "color": "#EBF0F8"
             },
             "line": {
              "color": "white"
             }
            },
            "header": {
             "fill": {
              "color": "#C8D4E3"
             },
             "line": {
              "color": "white"
             }
            },
            "type": "table"
           }
          ]
         },
         "layout": {
          "annotationdefaults": {
           "arrowcolor": "#2a3f5f",
           "arrowhead": 0,
           "arrowwidth": 1
          },
          "autotypenumbers": "strict",
          "coloraxis": {
           "colorbar": {
            "outlinewidth": 0,
            "ticks": ""
           }
          },
          "colorscale": {
           "diverging": [
            [
             0,
             "#8e0152"
            ],
            [
             0.1,
             "#c51b7d"
            ],
            [
             0.2,
             "#de77ae"
            ],
            [
             0.3,
             "#f1b6da"
            ],
            [
             0.4,
             "#fde0ef"
            ],
            [
             0.5,
             "#f7f7f7"
            ],
            [
             0.6,
             "#e6f5d0"
            ],
            [
             0.7,
             "#b8e186"
            ],
            [
             0.8,
             "#7fbc41"
            ],
            [
             0.9,
             "#4d9221"
            ],
            [
             1,
             "#276419"
            ]
           ],
           "sequential": [
            [
             0,
             "#0d0887"
            ],
            [
             0.1111111111111111,
             "#46039f"
            ],
            [
             0.2222222222222222,
             "#7201a8"
            ],
            [
             0.3333333333333333,
             "#9c179e"
            ],
            [
             0.4444444444444444,
             "#bd3786"
            ],
            [
             0.5555555555555556,
             "#d8576b"
            ],
            [
             0.6666666666666666,
             "#ed7953"
            ],
            [
             0.7777777777777778,
             "#fb9f3a"
            ],
            [
             0.8888888888888888,
             "#fdca26"
            ],
            [
             1,
             "#f0f921"
            ]
           ],
           "sequentialminus": [
            [
             0,
             "#0d0887"
            ],
            [
             0.1111111111111111,
             "#46039f"
            ],
            [
             0.2222222222222222,
             "#7201a8"
            ],
            [
             0.3333333333333333,
             "#9c179e"
            ],
            [
             0.4444444444444444,
             "#bd3786"
            ],
            [
             0.5555555555555556,
             "#d8576b"
            ],
            [
             0.6666666666666666,
             "#ed7953"
            ],
            [
             0.7777777777777778,
             "#fb9f3a"
            ],
            [
             0.8888888888888888,
             "#fdca26"
            ],
            [
             1,
             "#f0f921"
            ]
           ]
          },
          "colorway": [
           "#636efa",
           "#EF553B",
           "#00cc96",
           "#ab63fa",
           "#FFA15A",
           "#19d3f3",
           "#FF6692",
           "#B6E880",
           "#FF97FF",
           "#FECB52"
          ],
          "font": {
           "color": "#2a3f5f"
          },
          "geo": {
           "bgcolor": "white",
           "lakecolor": "white",
           "landcolor": "#E5ECF6",
           "showlakes": true,
           "showland": true,
           "subunitcolor": "white"
          },
          "hoverlabel": {
           "align": "left"
          },
          "hovermode": "closest",
          "mapbox": {
           "style": "light"
          },
          "paper_bgcolor": "white",
          "plot_bgcolor": "#E5ECF6",
          "polar": {
           "angularaxis": {
            "gridcolor": "white",
            "linecolor": "white",
            "ticks": ""
           },
           "bgcolor": "#E5ECF6",
           "radialaxis": {
            "gridcolor": "white",
            "linecolor": "white",
            "ticks": ""
           }
          },
          "scene": {
           "xaxis": {
            "backgroundcolor": "#E5ECF6",
            "gridcolor": "white",
            "gridwidth": 2,
            "linecolor": "white",
            "showbackground": true,
            "ticks": "",
            "zerolinecolor": "white"
           },
           "yaxis": {
            "backgroundcolor": "#E5ECF6",
            "gridcolor": "white",
            "gridwidth": 2,
            "linecolor": "white",
            "showbackground": true,
            "ticks": "",
            "zerolinecolor": "white"
           },
           "zaxis": {
            "backgroundcolor": "#E5ECF6",
            "gridcolor": "white",
            "gridwidth": 2,
            "linecolor": "white",
            "showbackground": true,
            "ticks": "",
            "zerolinecolor": "white"
           }
          },
          "shapedefaults": {
           "line": {
            "color": "#2a3f5f"
           }
          },
          "ternary": {
           "aaxis": {
            "gridcolor": "white",
            "linecolor": "white",
            "ticks": ""
           },
           "baxis": {
            "gridcolor": "white",
            "linecolor": "white",
            "ticks": ""
           },
           "bgcolor": "#E5ECF6",
           "caxis": {
            "gridcolor": "white",
            "linecolor": "white",
            "ticks": ""
           }
          },
          "title": {
           "x": 0.05
          },
          "xaxis": {
           "automargin": true,
           "gridcolor": "white",
           "linecolor": "white",
           "ticks": "",
           "title": {
            "standoff": 15
           },
           "zerolinecolor": "white",
           "zerolinewidth": 2
          },
          "yaxis": {
           "automargin": true,
           "gridcolor": "white",
           "linecolor": "white",
           "ticks": "",
           "title": {
            "standoff": 15
           },
           "zerolinecolor": "white",
           "zerolinewidth": 2
          }
         }
        },
        "xaxis": {
         "title": {
          "text": "Start Time"
         }
        },
        "yaxis": {
         "title": {
          "text": "Percentage"
         }
        }
       }
      },
      "text/html": [
       "<div>                            <div id=\"76b6843d-bbcc-434c-a463-d9a1f15ef3d3\" class=\"plotly-graph-div\" style=\"height:525px; width:100%;\"></div>            <script type=\"text/javascript\">                require([\"plotly\"], function(Plotly) {                    window.PLOTLYENV=window.PLOTLYENV || {};                                    if (document.getElementById(\"76b6843d-bbcc-434c-a463-d9a1f15ef3d3\")) {                    Plotly.newPlot(                        \"76b6843d-bbcc-434c-a463-d9a1f15ef3d3\",                        [{\"marker\":{\"color\":[\"#FECB52\",\"#FECB52\",\"#FECB52\",\"#FECB52\",\"#FECB52\"]},\"name\":\"\",\"text\":[42.56901059859084,25.515458773277977,31.09618570487615,0.767449751501966,0.0518951717530598],\"textposition\":\"auto\",\"x\":[\"1970-01-01T00:00:00\"],\"y\":[42.56901059859084,25.515458773277977,31.09618570487615,0.767449751501966,0.0518951717530598],\"type\":\"bar\"}],                        {\"template\":{\"data\":{\"histogram2dcontour\":[{\"type\":\"histogram2dcontour\",\"colorbar\":{\"outlinewidth\":0,\"ticks\":\"\"},\"colorscale\":[[0.0,\"#0d0887\"],[0.1111111111111111,\"#46039f\"],[0.2222222222222222,\"#7201a8\"],[0.3333333333333333,\"#9c179e\"],[0.4444444444444444,\"#bd3786\"],[0.5555555555555556,\"#d8576b\"],[0.6666666666666666,\"#ed7953\"],[0.7777777777777778,\"#fb9f3a\"],[0.8888888888888888,\"#fdca26\"],[1.0,\"#f0f921\"]]}],\"choropleth\":[{\"type\":\"choropleth\",\"colorbar\":{\"outlinewidth\":0,\"ticks\":\"\"}}],\"histogram2d\":[{\"type\":\"histogram2d\",\"colorbar\":{\"outlinewidth\":0,\"ticks\":\"\"},\"colorscale\":[[0.0,\"#0d0887\"],[0.1111111111111111,\"#46039f\"],[0.2222222222222222,\"#7201a8\"],[0.3333333333333333,\"#9c179e\"],[0.4444444444444444,\"#bd3786\"],[0.5555555555555556,\"#d8576b\"],[0.6666666666666666,\"#ed7953\"],[0.7777777777777778,\"#fb9f3a\"],[0.8888888888888888,\"#fdca26\"],[1.0,\"#f0f921\"]]}],\"heatmap\":[{\"type\":\"heatmap\",\"colorbar\":{\"outlinewidth\":0,\"ticks\":\"\"},\"colorscale\":[[0.0,\"#0d0887\"],[0.1111111111111111,\"#46039f\"],[0.2222222222222222,\"#7201a8\"],[0.3333333333333333,\"#9c179e\"],[0.4444444444444444,\"#bd3786\"],[0.5555555555555556,\"#d8576b\"],[0.6666666666666666,\"#ed7953\"],[0.7777777777777778,\"#fb9f3a\"],[0.8888888888888888,\"#fdca26\"],[1.0,\"#f0f921\"]]}],\"heatmapgl\":[{\"type\":\"heatmapgl\",\"colorbar\":{\"outlinewidth\":0,\"ticks\":\"\"},\"colorscale\":[[0.0,\"#0d0887\"],[0.1111111111111111,\"#46039f\"],[0.2222222222222222,\"#7201a8\"],[0.3333333333333333,\"#9c179e\"],[0.4444444444444444,\"#bd3786\"],[0.5555555555555556,\"#d8576b\"],[0.6666666666666666,\"#ed7953\"],[0.7777777777777778,\"#fb9f3a\"],[0.8888888888888888,\"#fdca26\"],[1.0,\"#f0f921\"]]}],\"contourcarpet\":[{\"type\":\"contourcarpet\",\"colorbar\":{\"outlinewidth\":0,\"ticks\":\"\"}}],\"contour\":[{\"type\":\"contour\",\"colorbar\":{\"outlinewidth\":0,\"ticks\":\"\"},\"colorscale\":[[0.0,\"#0d0887\"],[0.1111111111111111,\"#46039f\"],[0.2222222222222222,\"#7201a8\"],[0.3333333333333333,\"#9c179e\"],[0.4444444444444444,\"#bd3786\"],[0.5555555555555556,\"#d8576b\"],[0.6666666666666666,\"#ed7953\"],[0.7777777777777778,\"#fb9f3a\"],[0.8888888888888888,\"#fdca26\"],[1.0,\"#f0f921\"]]}],\"surface\":[{\"type\":\"surface\",\"colorbar\":{\"outlinewidth\":0,\"ticks\":\"\"},\"colorscale\":[[0.0,\"#0d0887\"],[0.1111111111111111,\"#46039f\"],[0.2222222222222222,\"#7201a8\"],[0.3333333333333333,\"#9c179e\"],[0.4444444444444444,\"#bd3786\"],[0.5555555555555556,\"#d8576b\"],[0.6666666666666666,\"#ed7953\"],[0.7777777777777778,\"#fb9f3a\"],[0.8888888888888888,\"#fdca26\"],[1.0,\"#f0f921\"]]}],\"mesh3d\":[{\"type\":\"mesh3d\",\"colorbar\":{\"outlinewidth\":0,\"ticks\":\"\"}}],\"scatter\":[{\"fillpattern\":{\"fillmode\":\"overlay\",\"size\":10,\"solidity\":0.2},\"type\":\"scatter\"}],\"parcoords\":[{\"type\":\"parcoords\",\"line\":{\"colorbar\":{\"outlinewidth\":0,\"ticks\":\"\"}}}],\"scatterpolargl\":[{\"type\":\"scatterpolargl\",\"marker\":{\"colorbar\":{\"outlinewidth\":0,\"ticks\":\"\"}}}],\"bar\":[{\"error_x\":{\"color\":\"#2a3f5f\"},\"error_y\":{\"color\":\"#2a3f5f\"},\"marker\":{\"line\":{\"color\":\"#E5ECF6\",\"width\":0.5},\"pattern\":{\"fillmode\":\"overlay\",\"size\":10,\"solidity\":0.2}},\"type\":\"bar\"}],\"scattergeo\":[{\"type\":\"scattergeo\",\"marker\":{\"colorbar\":{\"outlinewidth\":0,\"ticks\":\"\"}}}],\"scatterpolar\":[{\"type\":\"scatterpolar\",\"marker\":{\"colorbar\":{\"outlinewidth\":0,\"ticks\":\"\"}}}],\"histogram\":[{\"marker\":{\"pattern\":{\"fillmode\":\"overlay\",\"size\":10,\"solidity\":0.2}},\"type\":\"histogram\"}],\"scattergl\":[{\"type\":\"scattergl\",\"marker\":{\"colorbar\":{\"outlinewidth\":0,\"ticks\":\"\"}}}],\"scatter3d\":[{\"type\":\"scatter3d\",\"line\":{\"colorbar\":{\"outlinewidth\":0,\"ticks\":\"\"}},\"marker\":{\"colorbar\":{\"outlinewidth\":0,\"ticks\":\"\"}}}],\"scattermapbox\":[{\"type\":\"scattermapbox\",\"marker\":{\"colorbar\":{\"outlinewidth\":0,\"ticks\":\"\"}}}],\"scatterternary\":[{\"type\":\"scatterternary\",\"marker\":{\"colorbar\":{\"outlinewidth\":0,\"ticks\":\"\"}}}],\"scattercarpet\":[{\"type\":\"scattercarpet\",\"marker\":{\"colorbar\":{\"outlinewidth\":0,\"ticks\":\"\"}}}],\"carpet\":[{\"aaxis\":{\"endlinecolor\":\"#2a3f5f\",\"gridcolor\":\"white\",\"linecolor\":\"white\",\"minorgridcolor\":\"white\",\"startlinecolor\":\"#2a3f5f\"},\"baxis\":{\"endlinecolor\":\"#2a3f5f\",\"gridcolor\":\"white\",\"linecolor\":\"white\",\"minorgridcolor\":\"white\",\"startlinecolor\":\"#2a3f5f\"},\"type\":\"carpet\"}],\"table\":[{\"cells\":{\"fill\":{\"color\":\"#EBF0F8\"},\"line\":{\"color\":\"white\"}},\"header\":{\"fill\":{\"color\":\"#C8D4E3\"},\"line\":{\"color\":\"white\"}},\"type\":\"table\"}],\"barpolar\":[{\"marker\":{\"line\":{\"color\":\"#E5ECF6\",\"width\":0.5},\"pattern\":{\"fillmode\":\"overlay\",\"size\":10,\"solidity\":0.2}},\"type\":\"barpolar\"}],\"pie\":[{\"automargin\":true,\"type\":\"pie\"}]},\"layout\":{\"autotypenumbers\":\"strict\",\"colorway\":[\"#636efa\",\"#EF553B\",\"#00cc96\",\"#ab63fa\",\"#FFA15A\",\"#19d3f3\",\"#FF6692\",\"#B6E880\",\"#FF97FF\",\"#FECB52\"],\"font\":{\"color\":\"#2a3f5f\"},\"hovermode\":\"closest\",\"hoverlabel\":{\"align\":\"left\"},\"paper_bgcolor\":\"white\",\"plot_bgcolor\":\"#E5ECF6\",\"polar\":{\"bgcolor\":\"#E5ECF6\",\"angularaxis\":{\"gridcolor\":\"white\",\"linecolor\":\"white\",\"ticks\":\"\"},\"radialaxis\":{\"gridcolor\":\"white\",\"linecolor\":\"white\",\"ticks\":\"\"}},\"ternary\":{\"bgcolor\":\"#E5ECF6\",\"aaxis\":{\"gridcolor\":\"white\",\"linecolor\":\"white\",\"ticks\":\"\"},\"baxis\":{\"gridcolor\":\"white\",\"linecolor\":\"white\",\"ticks\":\"\"},\"caxis\":{\"gridcolor\":\"white\",\"linecolor\":\"white\",\"ticks\":\"\"}},\"coloraxis\":{\"colorbar\":{\"outlinewidth\":0,\"ticks\":\"\"}},\"colorscale\":{\"sequential\":[[0.0,\"#0d0887\"],[0.1111111111111111,\"#46039f\"],[0.2222222222222222,\"#7201a8\"],[0.3333333333333333,\"#9c179e\"],[0.4444444444444444,\"#bd3786\"],[0.5555555555555556,\"#d8576b\"],[0.6666666666666666,\"#ed7953\"],[0.7777777777777778,\"#fb9f3a\"],[0.8888888888888888,\"#fdca26\"],[1.0,\"#f0f921\"]],\"sequentialminus\":[[0.0,\"#0d0887\"],[0.1111111111111111,\"#46039f\"],[0.2222222222222222,\"#7201a8\"],[0.3333333333333333,\"#9c179e\"],[0.4444444444444444,\"#bd3786\"],[0.5555555555555556,\"#d8576b\"],[0.6666666666666666,\"#ed7953\"],[0.7777777777777778,\"#fb9f3a\"],[0.8888888888888888,\"#fdca26\"],[1.0,\"#f0f921\"]],\"diverging\":[[0,\"#8e0152\"],[0.1,\"#c51b7d\"],[0.2,\"#de77ae\"],[0.3,\"#f1b6da\"],[0.4,\"#fde0ef\"],[0.5,\"#f7f7f7\"],[0.6,\"#e6f5d0\"],[0.7,\"#b8e186\"],[0.8,\"#7fbc41\"],[0.9,\"#4d9221\"],[1,\"#276419\"]]},\"xaxis\":{\"gridcolor\":\"white\",\"linecolor\":\"white\",\"ticks\":\"\",\"title\":{\"standoff\":15},\"zerolinecolor\":\"white\",\"automargin\":true,\"zerolinewidth\":2},\"yaxis\":{\"gridcolor\":\"white\",\"linecolor\":\"white\",\"ticks\":\"\",\"title\":{\"standoff\":15},\"zerolinecolor\":\"white\",\"automargin\":true,\"zerolinewidth\":2},\"scene\":{\"xaxis\":{\"backgroundcolor\":\"#E5ECF6\",\"gridcolor\":\"white\",\"linecolor\":\"white\",\"showbackground\":true,\"ticks\":\"\",\"zerolinecolor\":\"white\",\"gridwidth\":2},\"yaxis\":{\"backgroundcolor\":\"#E5ECF6\",\"gridcolor\":\"white\",\"linecolor\":\"white\",\"showbackground\":true,\"ticks\":\"\",\"zerolinecolor\":\"white\",\"gridwidth\":2},\"zaxis\":{\"backgroundcolor\":\"#E5ECF6\",\"gridcolor\":\"white\",\"linecolor\":\"white\",\"showbackground\":true,\"ticks\":\"\",\"zerolinecolor\":\"white\",\"gridwidth\":2}},\"shapedefaults\":{\"line\":{\"color\":\"#2a3f5f\"}},\"annotationdefaults\":{\"arrowcolor\":\"#2a3f5f\",\"arrowhead\":0,\"arrowwidth\":1},\"geo\":{\"bgcolor\":\"white\",\"landcolor\":\"#E5ECF6\",\"subunitcolor\":\"white\",\"showland\":true,\"showlakes\":true,\"lakecolor\":\"white\"},\"title\":{\"x\":0.05},\"mapbox\":{\"style\":\"light\"}}},\"yaxis\":{\"title\":{\"text\":\"Percentage\"}},\"xaxis\":{\"title\":{\"text\":\"Start Time\"}},\"legend\":{\"title\":{\"text\":\"Decision\"}},\"barmode\":\"stack\"},                        {\"responsive\": true}                    ).then(function(){\n",
       "                            \n",
       "var gd = document.getElementById('76b6843d-bbcc-434c-a463-d9a1f15ef3d3');\n",
       "var x = new MutationObserver(function (mutations, observer) {{\n",
       "        var display = window.getComputedStyle(gd).display;\n",
       "        if (!display || display === 'none') {{\n",
       "            console.log([gd, 'removed!']);\n",
       "            Plotly.purge(gd);\n",
       "            observer.disconnect();\n",
       "        }}\n",
       "}});\n",
       "\n",
       "// Listen for the removal of the full notebook cells\n",
       "var notebookContainer = gd.closest('#notebook-container');\n",
       "if (notebookContainer) {{\n",
       "    x.observe(notebookContainer, {childList: true});\n",
       "}}\n",
       "\n",
       "// Listen for the clearing of the current output cell\n",
       "var outputEl = gd.closest('.output');\n",
       "if (outputEl) {{\n",
       "    x.observe(outputEl, {childList: true});\n",
       "}}\n",
       "\n",
       "                        })                };                });            </script>        </div>"
      ]
     },
     "metadata": {},
     "output_type": "display_data"
    }
   ],
   "source": [
    "import pandas as pd\n",
    "import plotly.express as px\n",
    "import plotly.io as pio\n",
    "import plotly.graph_objects as go\n",
    "\n",
    "# Step 3: Read the CSV file into a DataFrame\n",
    "df = pd.read_csv('/home/ameknas/sequenoscope-1/test_SE/sample_manifest.txt', sep='\\t')\n",
    "\n",
    "# Step 4: Define the dictionary for decision classification\n",
    "classes = {\n",
    "    \"stop_receiving\": [\"signal_positive\"],\n",
    "    \"unblocked\": [\"data_service_unblock_mux_change\"],\n",
    "    \"no_decision\": [\"signal_negative\", \"unblock_mux_change\"]\n",
    "}\n",
    "\n",
    "# Step 5: Convert the start time column to datetime format\n",
    "df['start_time'] = pd.to_datetime(df['start_time'])\n",
    "\n",
    "# Step 6: Create a function to calculate the time bins\n",
    "def calculate_time_bins(df, time_unit):\n",
    "    if time_unit == 'minutes':\n",
    "        df['start_time'] = df['start_time'].dt.floor('min')\n",
    "    elif time_unit == 'hours':\n",
    "        df['start_time'] = df['start_time'].dt.floor('h')\n",
    "    else:\n",
    "        df['start_time'] = df['start_time'].dt.floor('s')\n",
    "    return df\n",
    "\n",
    "# Step 7: Apply the time binning function based on the user's selection\n",
    "time_unit = 'hours'  # Default time unit\n",
    "df = calculate_time_bins(df, time_unit)\n",
    "\n",
    "# Step 8: Group the data by start time and decision, and calculate the count for each combination\n",
    "grouped = df.groupby(['start_time', 'decision']).size().reset_index(name='count')\n",
    "\n",
    "# Step 9: Calculate the percentage of each decision at each time bin\n",
    "grouped['percentage'] = grouped.groupby('start_time')['count'].apply(lambda x: 100 * x / float(x.sum()))\n",
    "\n",
    "# Step 10: Filter the data to include only the relevant decisions from the classes dictionary\n",
    "grouped = grouped[grouped['decision'].isin([d for v in classes.values() for d in v])]\n",
    "\n",
    "# Step 11: Create the stacked bar chart using Plotly\n",
    "fig = go.Figure()\n",
    "\n",
    "for start_time, data in grouped.groupby('start_time'):\n",
    "    total_percentage = data['percentage'].sum()\n",
    "    remaining_percentage = 100 - total_percentage\n",
    "    remaining_data = pd.DataFrame({'decision': ['Remaining'], 'percentage': [remaining_percentage]})\n",
    "    data = pd.concat([data, remaining_data])\n",
    "\n",
    "    # Customize the color scheme\n",
    "    colors = px.colors.qualitative.Plotly\n",
    "    color_map = {decision: color for decision, color in zip(classes.keys(), colors)}\n",
    "    colors = [color_map.get(decision, colors[-1]) for decision in data['decision']]\n",
    "\n",
    "    fig.add_trace(go.Bar(\n",
    "        x=[start_time],\n",
    "        y=data['percentage'],\n",
    "        text=data['percentage'],\n",
    "        textposition='auto',\n",
    "        marker=dict(color=colors),\n",
    "        name=''))\n",
    "\n",
    "# Configure axes and layout\n",
    "fig.update_layout(\n",
    "    yaxis_title='Percentage',\n",
    "    xaxis_title='Start Time',\n",
    "    legend_title='Decision',\n",
    "    barmode='stack'\n",
    ")\n",
    "\n",
    "# Step 12: Show the stacked bar chart\n",
    "pio.show(fig)\n",
    "\n"
   ]
  },
  {
   "cell_type": "code",
   "execution_count": 145,
   "metadata": {},
   "outputs": [
    {
     "name": "stderr",
     "output_type": "stream",
     "text": [
      "/home/ameknas/anaconda3/lib/python3.7/site-packages/ipykernel_launcher.py:65: SettingWithCopyWarning:\n",
      "\n",
      "\n",
      "A value is trying to be set on a copy of a slice from a DataFrame.\n",
      "Try using .loc[row_indexer,col_indexer] = value instead\n",
      "\n",
      "See the caveats in the documentation: https://pandas.pydata.org/pandas-docs/stable/user_guide/indexing.html#returning-a-view-versus-a-copy\n",
      "\n"
     ]
    },
    {
     "data": {
      "application/vnd.plotly.v1+json": {
       "config": {
        "plotlyServerURL": "https://plot.ly"
       },
       "data": [
        {
         "line": {
          "color": "black"
         },
         "mode": "lines",
         "name": "Read Count",
         "type": "scatter",
         "visible": true,
         "x": [],
         "y": [
          24374,
          48454,
          71505,
          76517
         ],
         "yaxis": "y2"
        }
       ],
       "layout": {
        "barmode": "stack",
        "legend": {
         "orientation": "h",
         "x": 1,
         "xanchor": "right",
         "y": 1.05,
         "yanchor": "top"
        },
        "margin": {
         "b": 50,
         "t": 50
        },
        "plot_bgcolor": "white",
        "template": {
         "data": {
          "bar": [
           {
            "error_x": {
             "color": "#2a3f5f"
            },
            "error_y": {
             "color": "#2a3f5f"
            },
            "marker": {
             "line": {
              "color": "#E5ECF6",
              "width": 0.5
             },
             "pattern": {
              "fillmode": "overlay",
              "size": 10,
              "solidity": 0.2
             }
            },
            "type": "bar"
           }
          ],
          "barpolar": [
           {
            "marker": {
             "line": {
              "color": "#E5ECF6",
              "width": 0.5
             },
             "pattern": {
              "fillmode": "overlay",
              "size": 10,
              "solidity": 0.2
             }
            },
            "type": "barpolar"
           }
          ],
          "carpet": [
           {
            "aaxis": {
             "endlinecolor": "#2a3f5f",
             "gridcolor": "white",
             "linecolor": "white",
             "minorgridcolor": "white",
             "startlinecolor": "#2a3f5f"
            },
            "baxis": {
             "endlinecolor": "#2a3f5f",
             "gridcolor": "white",
             "linecolor": "white",
             "minorgridcolor": "white",
             "startlinecolor": "#2a3f5f"
            },
            "type": "carpet"
           }
          ],
          "choropleth": [
           {
            "colorbar": {
             "outlinewidth": 0,
             "ticks": ""
            },
            "type": "choropleth"
           }
          ],
          "contour": [
           {
            "colorbar": {
             "outlinewidth": 0,
             "ticks": ""
            },
            "colorscale": [
             [
              0,
              "#0d0887"
             ],
             [
              0.1111111111111111,
              "#46039f"
             ],
             [
              0.2222222222222222,
              "#7201a8"
             ],
             [
              0.3333333333333333,
              "#9c179e"
             ],
             [
              0.4444444444444444,
              "#bd3786"
             ],
             [
              0.5555555555555556,
              "#d8576b"
             ],
             [
              0.6666666666666666,
              "#ed7953"
             ],
             [
              0.7777777777777778,
              "#fb9f3a"
             ],
             [
              0.8888888888888888,
              "#fdca26"
             ],
             [
              1,
              "#f0f921"
             ]
            ],
            "type": "contour"
           }
          ],
          "contourcarpet": [
           {
            "colorbar": {
             "outlinewidth": 0,
             "ticks": ""
            },
            "type": "contourcarpet"
           }
          ],
          "heatmap": [
           {
            "colorbar": {
             "outlinewidth": 0,
             "ticks": ""
            },
            "colorscale": [
             [
              0,
              "#0d0887"
             ],
             [
              0.1111111111111111,
              "#46039f"
             ],
             [
              0.2222222222222222,
              "#7201a8"
             ],
             [
              0.3333333333333333,
              "#9c179e"
             ],
             [
              0.4444444444444444,
              "#bd3786"
             ],
             [
              0.5555555555555556,
              "#d8576b"
             ],
             [
              0.6666666666666666,
              "#ed7953"
             ],
             [
              0.7777777777777778,
              "#fb9f3a"
             ],
             [
              0.8888888888888888,
              "#fdca26"
             ],
             [
              1,
              "#f0f921"
             ]
            ],
            "type": "heatmap"
           }
          ],
          "heatmapgl": [
           {
            "colorbar": {
             "outlinewidth": 0,
             "ticks": ""
            },
            "colorscale": [
             [
              0,
              "#0d0887"
             ],
             [
              0.1111111111111111,
              "#46039f"
             ],
             [
              0.2222222222222222,
              "#7201a8"
             ],
             [
              0.3333333333333333,
              "#9c179e"
             ],
             [
              0.4444444444444444,
              "#bd3786"
             ],
             [
              0.5555555555555556,
              "#d8576b"
             ],
             [
              0.6666666666666666,
              "#ed7953"
             ],
             [
              0.7777777777777778,
              "#fb9f3a"
             ],
             [
              0.8888888888888888,
              "#fdca26"
             ],
             [
              1,
              "#f0f921"
             ]
            ],
            "type": "heatmapgl"
           }
          ],
          "histogram": [
           {
            "marker": {
             "pattern": {
              "fillmode": "overlay",
              "size": 10,
              "solidity": 0.2
             }
            },
            "type": "histogram"
           }
          ],
          "histogram2d": [
           {
            "colorbar": {
             "outlinewidth": 0,
             "ticks": ""
            },
            "colorscale": [
             [
              0,
              "#0d0887"
             ],
             [
              0.1111111111111111,
              "#46039f"
             ],
             [
              0.2222222222222222,
              "#7201a8"
             ],
             [
              0.3333333333333333,
              "#9c179e"
             ],
             [
              0.4444444444444444,
              "#bd3786"
             ],
             [
              0.5555555555555556,
              "#d8576b"
             ],
             [
              0.6666666666666666,
              "#ed7953"
             ],
             [
              0.7777777777777778,
              "#fb9f3a"
             ],
             [
              0.8888888888888888,
              "#fdca26"
             ],
             [
              1,
              "#f0f921"
             ]
            ],
            "type": "histogram2d"
           }
          ],
          "histogram2dcontour": [
           {
            "colorbar": {
             "outlinewidth": 0,
             "ticks": ""
            },
            "colorscale": [
             [
              0,
              "#0d0887"
             ],
             [
              0.1111111111111111,
              "#46039f"
             ],
             [
              0.2222222222222222,
              "#7201a8"
             ],
             [
              0.3333333333333333,
              "#9c179e"
             ],
             [
              0.4444444444444444,
              "#bd3786"
             ],
             [
              0.5555555555555556,
              "#d8576b"
             ],
             [
              0.6666666666666666,
              "#ed7953"
             ],
             [
              0.7777777777777778,
              "#fb9f3a"
             ],
             [
              0.8888888888888888,
              "#fdca26"
             ],
             [
              1,
              "#f0f921"
             ]
            ],
            "type": "histogram2dcontour"
           }
          ],
          "mesh3d": [
           {
            "colorbar": {
             "outlinewidth": 0,
             "ticks": ""
            },
            "type": "mesh3d"
           }
          ],
          "parcoords": [
           {
            "line": {
             "colorbar": {
              "outlinewidth": 0,
              "ticks": ""
             }
            },
            "type": "parcoords"
           }
          ],
          "pie": [
           {
            "automargin": true,
            "type": "pie"
           }
          ],
          "scatter": [
           {
            "fillpattern": {
             "fillmode": "overlay",
             "size": 10,
             "solidity": 0.2
            },
            "type": "scatter"
           }
          ],
          "scatter3d": [
           {
            "line": {
             "colorbar": {
              "outlinewidth": 0,
              "ticks": ""
             }
            },
            "marker": {
             "colorbar": {
              "outlinewidth": 0,
              "ticks": ""
             }
            },
            "type": "scatter3d"
           }
          ],
          "scattercarpet": [
           {
            "marker": {
             "colorbar": {
              "outlinewidth": 0,
              "ticks": ""
             }
            },
            "type": "scattercarpet"
           }
          ],
          "scattergeo": [
           {
            "marker": {
             "colorbar": {
              "outlinewidth": 0,
              "ticks": ""
             }
            },
            "type": "scattergeo"
           }
          ],
          "scattergl": [
           {
            "marker": {
             "colorbar": {
              "outlinewidth": 0,
              "ticks": ""
             }
            },
            "type": "scattergl"
           }
          ],
          "scattermapbox": [
           {
            "marker": {
             "colorbar": {
              "outlinewidth": 0,
              "ticks": ""
             }
            },
            "type": "scattermapbox"
           }
          ],
          "scatterpolar": [
           {
            "marker": {
             "colorbar": {
              "outlinewidth": 0,
              "ticks": ""
             }
            },
            "type": "scatterpolar"
           }
          ],
          "scatterpolargl": [
           {
            "marker": {
             "colorbar": {
              "outlinewidth": 0,
              "ticks": ""
             }
            },
            "type": "scatterpolargl"
           }
          ],
          "scatterternary": [
           {
            "marker": {
             "colorbar": {
              "outlinewidth": 0,
              "ticks": ""
             }
            },
            "type": "scatterternary"
           }
          ],
          "surface": [
           {
            "colorbar": {
             "outlinewidth": 0,
             "ticks": ""
            },
            "colorscale": [
             [
              0,
              "#0d0887"
             ],
             [
              0.1111111111111111,
              "#46039f"
             ],
             [
              0.2222222222222222,
              "#7201a8"
             ],
             [
              0.3333333333333333,
              "#9c179e"
             ],
             [
              0.4444444444444444,
              "#bd3786"
             ],
             [
              0.5555555555555556,
              "#d8576b"
             ],
             [
              0.6666666666666666,
              "#ed7953"
             ],
             [
              0.7777777777777778,
              "#fb9f3a"
             ],
             [
              0.8888888888888888,
              "#fdca26"
             ],
             [
              1,
              "#f0f921"
             ]
            ],
            "type": "surface"
           }
          ],
          "table": [
           {
            "cells": {
             "fill": {
              "color": "#EBF0F8"
             },
             "line": {
              "color": "white"
             }
            },
            "header": {
             "fill": {
              "color": "#C8D4E3"
             },
             "line": {
              "color": "white"
             }
            },
            "type": "table"
           }
          ]
         },
         "layout": {
          "annotationdefaults": {
           "arrowcolor": "#2a3f5f",
           "arrowhead": 0,
           "arrowwidth": 1
          },
          "autotypenumbers": "strict",
          "coloraxis": {
           "colorbar": {
            "outlinewidth": 0,
            "ticks": ""
           }
          },
          "colorscale": {
           "diverging": [
            [
             0,
             "#8e0152"
            ],
            [
             0.1,
             "#c51b7d"
            ],
            [
             0.2,
             "#de77ae"
            ],
            [
             0.3,
             "#f1b6da"
            ],
            [
             0.4,
             "#fde0ef"
            ],
            [
             0.5,
             "#f7f7f7"
            ],
            [
             0.6,
             "#e6f5d0"
            ],
            [
             0.7,
             "#b8e186"
            ],
            [
             0.8,
             "#7fbc41"
            ],
            [
             0.9,
             "#4d9221"
            ],
            [
             1,
             "#276419"
            ]
           ],
           "sequential": [
            [
             0,
             "#0d0887"
            ],
            [
             0.1111111111111111,
             "#46039f"
            ],
            [
             0.2222222222222222,
             "#7201a8"
            ],
            [
             0.3333333333333333,
             "#9c179e"
            ],
            [
             0.4444444444444444,
             "#bd3786"
            ],
            [
             0.5555555555555556,
             "#d8576b"
            ],
            [
             0.6666666666666666,
             "#ed7953"
            ],
            [
             0.7777777777777778,
             "#fb9f3a"
            ],
            [
             0.8888888888888888,
             "#fdca26"
            ],
            [
             1,
             "#f0f921"
            ]
           ],
           "sequentialminus": [
            [
             0,
             "#0d0887"
            ],
            [
             0.1111111111111111,
             "#46039f"
            ],
            [
             0.2222222222222222,
             "#7201a8"
            ],
            [
             0.3333333333333333,
             "#9c179e"
            ],
            [
             0.4444444444444444,
             "#bd3786"
            ],
            [
             0.5555555555555556,
             "#d8576b"
            ],
            [
             0.6666666666666666,
             "#ed7953"
            ],
            [
             0.7777777777777778,
             "#fb9f3a"
            ],
            [
             0.8888888888888888,
             "#fdca26"
            ],
            [
             1,
             "#f0f921"
            ]
           ]
          },
          "colorway": [
           "#636efa",
           "#EF553B",
           "#00cc96",
           "#ab63fa",
           "#FFA15A",
           "#19d3f3",
           "#FF6692",
           "#B6E880",
           "#FF97FF",
           "#FECB52"
          ],
          "font": {
           "color": "#2a3f5f"
          },
          "geo": {
           "bgcolor": "white",
           "lakecolor": "white",
           "landcolor": "#E5ECF6",
           "showlakes": true,
           "showland": true,
           "subunitcolor": "white"
          },
          "hoverlabel": {
           "align": "left"
          },
          "hovermode": "closest",
          "mapbox": {
           "style": "light"
          },
          "paper_bgcolor": "white",
          "plot_bgcolor": "#E5ECF6",
          "polar": {
           "angularaxis": {
            "gridcolor": "white",
            "linecolor": "white",
            "ticks": ""
           },
           "bgcolor": "#E5ECF6",
           "radialaxis": {
            "gridcolor": "white",
            "linecolor": "white",
            "ticks": ""
           }
          },
          "scene": {
           "xaxis": {
            "backgroundcolor": "#E5ECF6",
            "gridcolor": "white",
            "gridwidth": 2,
            "linecolor": "white",
            "showbackground": true,
            "ticks": "",
            "zerolinecolor": "white"
           },
           "yaxis": {
            "backgroundcolor": "#E5ECF6",
            "gridcolor": "white",
            "gridwidth": 2,
            "linecolor": "white",
            "showbackground": true,
            "ticks": "",
            "zerolinecolor": "white"
           },
           "zaxis": {
            "backgroundcolor": "#E5ECF6",
            "gridcolor": "white",
            "gridwidth": 2,
            "linecolor": "white",
            "showbackground": true,
            "ticks": "",
            "zerolinecolor": "white"
           }
          },
          "shapedefaults": {
           "line": {
            "color": "#2a3f5f"
           }
          },
          "ternary": {
           "aaxis": {
            "gridcolor": "white",
            "linecolor": "white",
            "ticks": ""
           },
           "baxis": {
            "gridcolor": "white",
            "linecolor": "white",
            "ticks": ""
           },
           "bgcolor": "#E5ECF6",
           "caxis": {
            "gridcolor": "white",
            "linecolor": "white",
            "ticks": ""
           }
          },
          "title": {
           "x": 0.05
          },
          "xaxis": {
           "automargin": true,
           "gridcolor": "white",
           "linecolor": "white",
           "ticks": "",
           "title": {
            "standoff": 15
           },
           "zerolinecolor": "white",
           "zerolinewidth": 2
          },
          "yaxis": {
           "automargin": true,
           "gridcolor": "white",
           "linecolor": "white",
           "ticks": "",
           "title": {
            "standoff": 15
           },
           "zerolinecolor": "white",
           "zerolinewidth": 2
          }
         }
        },
        "xaxis": {
         "showgrid": false,
         "title": {
          "text": "Start Time (hours)"
         }
        },
        "yaxis": {
         "showgrid": false,
         "title": {
          "text": "Percentage"
         }
        },
        "yaxis2": {
         "overlaying": "y",
         "showgrid": false,
         "side": "right",
         "title": {
          "text": "Cumulative Read Count"
         }
        }
       }
      },
      "text/html": [
       "<div>                            <div id=\"7bfbaac0-8a20-4e5a-bb0b-7f9f7345024e\" class=\"plotly-graph-div\" style=\"height:525px; width:100%;\"></div>            <script type=\"text/javascript\">                require([\"plotly\"], function(Plotly) {                    window.PLOTLYENV=window.PLOTLYENV || {};                                    if (document.getElementById(\"7bfbaac0-8a20-4e5a-bb0b-7f9f7345024e\")) {                    Plotly.newPlot(                        \"7bfbaac0-8a20-4e5a-bb0b-7f9f7345024e\",                        [{\"line\":{\"color\":\"black\"},\"mode\":\"lines\",\"name\":\"Read Count\",\"visible\":true,\"x\":[],\"y\":[24374,48454,71505,76517],\"yaxis\":\"y2\",\"type\":\"scatter\"}],                        {\"template\":{\"data\":{\"histogram2dcontour\":[{\"type\":\"histogram2dcontour\",\"colorbar\":{\"outlinewidth\":0,\"ticks\":\"\"},\"colorscale\":[[0.0,\"#0d0887\"],[0.1111111111111111,\"#46039f\"],[0.2222222222222222,\"#7201a8\"],[0.3333333333333333,\"#9c179e\"],[0.4444444444444444,\"#bd3786\"],[0.5555555555555556,\"#d8576b\"],[0.6666666666666666,\"#ed7953\"],[0.7777777777777778,\"#fb9f3a\"],[0.8888888888888888,\"#fdca26\"],[1.0,\"#f0f921\"]]}],\"choropleth\":[{\"type\":\"choropleth\",\"colorbar\":{\"outlinewidth\":0,\"ticks\":\"\"}}],\"histogram2d\":[{\"type\":\"histogram2d\",\"colorbar\":{\"outlinewidth\":0,\"ticks\":\"\"},\"colorscale\":[[0.0,\"#0d0887\"],[0.1111111111111111,\"#46039f\"],[0.2222222222222222,\"#7201a8\"],[0.3333333333333333,\"#9c179e\"],[0.4444444444444444,\"#bd3786\"],[0.5555555555555556,\"#d8576b\"],[0.6666666666666666,\"#ed7953\"],[0.7777777777777778,\"#fb9f3a\"],[0.8888888888888888,\"#fdca26\"],[1.0,\"#f0f921\"]]}],\"heatmap\":[{\"type\":\"heatmap\",\"colorbar\":{\"outlinewidth\":0,\"ticks\":\"\"},\"colorscale\":[[0.0,\"#0d0887\"],[0.1111111111111111,\"#46039f\"],[0.2222222222222222,\"#7201a8\"],[0.3333333333333333,\"#9c179e\"],[0.4444444444444444,\"#bd3786\"],[0.5555555555555556,\"#d8576b\"],[0.6666666666666666,\"#ed7953\"],[0.7777777777777778,\"#fb9f3a\"],[0.8888888888888888,\"#fdca26\"],[1.0,\"#f0f921\"]]}],\"heatmapgl\":[{\"type\":\"heatmapgl\",\"colorbar\":{\"outlinewidth\":0,\"ticks\":\"\"},\"colorscale\":[[0.0,\"#0d0887\"],[0.1111111111111111,\"#46039f\"],[0.2222222222222222,\"#7201a8\"],[0.3333333333333333,\"#9c179e\"],[0.4444444444444444,\"#bd3786\"],[0.5555555555555556,\"#d8576b\"],[0.6666666666666666,\"#ed7953\"],[0.7777777777777778,\"#fb9f3a\"],[0.8888888888888888,\"#fdca26\"],[1.0,\"#f0f921\"]]}],\"contourcarpet\":[{\"type\":\"contourcarpet\",\"colorbar\":{\"outlinewidth\":0,\"ticks\":\"\"}}],\"contour\":[{\"type\":\"contour\",\"colorbar\":{\"outlinewidth\":0,\"ticks\":\"\"},\"colorscale\":[[0.0,\"#0d0887\"],[0.1111111111111111,\"#46039f\"],[0.2222222222222222,\"#7201a8\"],[0.3333333333333333,\"#9c179e\"],[0.4444444444444444,\"#bd3786\"],[0.5555555555555556,\"#d8576b\"],[0.6666666666666666,\"#ed7953\"],[0.7777777777777778,\"#fb9f3a\"],[0.8888888888888888,\"#fdca26\"],[1.0,\"#f0f921\"]]}],\"surface\":[{\"type\":\"surface\",\"colorbar\":{\"outlinewidth\":0,\"ticks\":\"\"},\"colorscale\":[[0.0,\"#0d0887\"],[0.1111111111111111,\"#46039f\"],[0.2222222222222222,\"#7201a8\"],[0.3333333333333333,\"#9c179e\"],[0.4444444444444444,\"#bd3786\"],[0.5555555555555556,\"#d8576b\"],[0.6666666666666666,\"#ed7953\"],[0.7777777777777778,\"#fb9f3a\"],[0.8888888888888888,\"#fdca26\"],[1.0,\"#f0f921\"]]}],\"mesh3d\":[{\"type\":\"mesh3d\",\"colorbar\":{\"outlinewidth\":0,\"ticks\":\"\"}}],\"scatter\":[{\"fillpattern\":{\"fillmode\":\"overlay\",\"size\":10,\"solidity\":0.2},\"type\":\"scatter\"}],\"parcoords\":[{\"type\":\"parcoords\",\"line\":{\"colorbar\":{\"outlinewidth\":0,\"ticks\":\"\"}}}],\"scatterpolargl\":[{\"type\":\"scatterpolargl\",\"marker\":{\"colorbar\":{\"outlinewidth\":0,\"ticks\":\"\"}}}],\"bar\":[{\"error_x\":{\"color\":\"#2a3f5f\"},\"error_y\":{\"color\":\"#2a3f5f\"},\"marker\":{\"line\":{\"color\":\"#E5ECF6\",\"width\":0.5},\"pattern\":{\"fillmode\":\"overlay\",\"size\":10,\"solidity\":0.2}},\"type\":\"bar\"}],\"scattergeo\":[{\"type\":\"scattergeo\",\"marker\":{\"colorbar\":{\"outlinewidth\":0,\"ticks\":\"\"}}}],\"scatterpolar\":[{\"type\":\"scatterpolar\",\"marker\":{\"colorbar\":{\"outlinewidth\":0,\"ticks\":\"\"}}}],\"histogram\":[{\"marker\":{\"pattern\":{\"fillmode\":\"overlay\",\"size\":10,\"solidity\":0.2}},\"type\":\"histogram\"}],\"scattergl\":[{\"type\":\"scattergl\",\"marker\":{\"colorbar\":{\"outlinewidth\":0,\"ticks\":\"\"}}}],\"scatter3d\":[{\"type\":\"scatter3d\",\"line\":{\"colorbar\":{\"outlinewidth\":0,\"ticks\":\"\"}},\"marker\":{\"colorbar\":{\"outlinewidth\":0,\"ticks\":\"\"}}}],\"scattermapbox\":[{\"type\":\"scattermapbox\",\"marker\":{\"colorbar\":{\"outlinewidth\":0,\"ticks\":\"\"}}}],\"scatterternary\":[{\"type\":\"scatterternary\",\"marker\":{\"colorbar\":{\"outlinewidth\":0,\"ticks\":\"\"}}}],\"scattercarpet\":[{\"type\":\"scattercarpet\",\"marker\":{\"colorbar\":{\"outlinewidth\":0,\"ticks\":\"\"}}}],\"carpet\":[{\"aaxis\":{\"endlinecolor\":\"#2a3f5f\",\"gridcolor\":\"white\",\"linecolor\":\"white\",\"minorgridcolor\":\"white\",\"startlinecolor\":\"#2a3f5f\"},\"baxis\":{\"endlinecolor\":\"#2a3f5f\",\"gridcolor\":\"white\",\"linecolor\":\"white\",\"minorgridcolor\":\"white\",\"startlinecolor\":\"#2a3f5f\"},\"type\":\"carpet\"}],\"table\":[{\"cells\":{\"fill\":{\"color\":\"#EBF0F8\"},\"line\":{\"color\":\"white\"}},\"header\":{\"fill\":{\"color\":\"#C8D4E3\"},\"line\":{\"color\":\"white\"}},\"type\":\"table\"}],\"barpolar\":[{\"marker\":{\"line\":{\"color\":\"#E5ECF6\",\"width\":0.5},\"pattern\":{\"fillmode\":\"overlay\",\"size\":10,\"solidity\":0.2}},\"type\":\"barpolar\"}],\"pie\":[{\"automargin\":true,\"type\":\"pie\"}]},\"layout\":{\"autotypenumbers\":\"strict\",\"colorway\":[\"#636efa\",\"#EF553B\",\"#00cc96\",\"#ab63fa\",\"#FFA15A\",\"#19d3f3\",\"#FF6692\",\"#B6E880\",\"#FF97FF\",\"#FECB52\"],\"font\":{\"color\":\"#2a3f5f\"},\"hovermode\":\"closest\",\"hoverlabel\":{\"align\":\"left\"},\"paper_bgcolor\":\"white\",\"plot_bgcolor\":\"#E5ECF6\",\"polar\":{\"bgcolor\":\"#E5ECF6\",\"angularaxis\":{\"gridcolor\":\"white\",\"linecolor\":\"white\",\"ticks\":\"\"},\"radialaxis\":{\"gridcolor\":\"white\",\"linecolor\":\"white\",\"ticks\":\"\"}},\"ternary\":{\"bgcolor\":\"#E5ECF6\",\"aaxis\":{\"gridcolor\":\"white\",\"linecolor\":\"white\",\"ticks\":\"\"},\"baxis\":{\"gridcolor\":\"white\",\"linecolor\":\"white\",\"ticks\":\"\"},\"caxis\":{\"gridcolor\":\"white\",\"linecolor\":\"white\",\"ticks\":\"\"}},\"coloraxis\":{\"colorbar\":{\"outlinewidth\":0,\"ticks\":\"\"}},\"colorscale\":{\"sequential\":[[0.0,\"#0d0887\"],[0.1111111111111111,\"#46039f\"],[0.2222222222222222,\"#7201a8\"],[0.3333333333333333,\"#9c179e\"],[0.4444444444444444,\"#bd3786\"],[0.5555555555555556,\"#d8576b\"],[0.6666666666666666,\"#ed7953\"],[0.7777777777777778,\"#fb9f3a\"],[0.8888888888888888,\"#fdca26\"],[1.0,\"#f0f921\"]],\"sequentialminus\":[[0.0,\"#0d0887\"],[0.1111111111111111,\"#46039f\"],[0.2222222222222222,\"#7201a8\"],[0.3333333333333333,\"#9c179e\"],[0.4444444444444444,\"#bd3786\"],[0.5555555555555556,\"#d8576b\"],[0.6666666666666666,\"#ed7953\"],[0.7777777777777778,\"#fb9f3a\"],[0.8888888888888888,\"#fdca26\"],[1.0,\"#f0f921\"]],\"diverging\":[[0,\"#8e0152\"],[0.1,\"#c51b7d\"],[0.2,\"#de77ae\"],[0.3,\"#f1b6da\"],[0.4,\"#fde0ef\"],[0.5,\"#f7f7f7\"],[0.6,\"#e6f5d0\"],[0.7,\"#b8e186\"],[0.8,\"#7fbc41\"],[0.9,\"#4d9221\"],[1,\"#276419\"]]},\"xaxis\":{\"gridcolor\":\"white\",\"linecolor\":\"white\",\"ticks\":\"\",\"title\":{\"standoff\":15},\"zerolinecolor\":\"white\",\"automargin\":true,\"zerolinewidth\":2},\"yaxis\":{\"gridcolor\":\"white\",\"linecolor\":\"white\",\"ticks\":\"\",\"title\":{\"standoff\":15},\"zerolinecolor\":\"white\",\"automargin\":true,\"zerolinewidth\":2},\"scene\":{\"xaxis\":{\"backgroundcolor\":\"#E5ECF6\",\"gridcolor\":\"white\",\"linecolor\":\"white\",\"showbackground\":true,\"ticks\":\"\",\"zerolinecolor\":\"white\",\"gridwidth\":2},\"yaxis\":{\"backgroundcolor\":\"#E5ECF6\",\"gridcolor\":\"white\",\"linecolor\":\"white\",\"showbackground\":true,\"ticks\":\"\",\"zerolinecolor\":\"white\",\"gridwidth\":2},\"zaxis\":{\"backgroundcolor\":\"#E5ECF6\",\"gridcolor\":\"white\",\"linecolor\":\"white\",\"showbackground\":true,\"ticks\":\"\",\"zerolinecolor\":\"white\",\"gridwidth\":2}},\"shapedefaults\":{\"line\":{\"color\":\"#2a3f5f\"}},\"annotationdefaults\":{\"arrowcolor\":\"#2a3f5f\",\"arrowhead\":0,\"arrowwidth\":1},\"geo\":{\"bgcolor\":\"white\",\"landcolor\":\"#E5ECF6\",\"subunitcolor\":\"white\",\"showland\":true,\"showlakes\":true,\"lakecolor\":\"white\"},\"title\":{\"x\":0.05},\"mapbox\":{\"style\":\"light\"}}},\"xaxis\":{\"showgrid\":false,\"title\":{\"text\":\"Start Time (hours)\"}},\"yaxis\":{\"showgrid\":false,\"title\":{\"text\":\"Percentage\"}},\"yaxis2\":{\"showgrid\":false,\"title\":{\"text\":\"Cumulative Read Count\"},\"overlaying\":\"y\",\"side\":\"right\"},\"legend\":{\"orientation\":\"h\",\"yanchor\":\"top\",\"y\":1.05,\"xanchor\":\"right\",\"x\":1},\"margin\":{\"t\":50,\"b\":50},\"barmode\":\"stack\",\"plot_bgcolor\":\"white\"},                        {\"responsive\": true}                    ).then(function(){\n",
       "                            \n",
       "var gd = document.getElementById('7bfbaac0-8a20-4e5a-bb0b-7f9f7345024e');\n",
       "var x = new MutationObserver(function (mutations, observer) {{\n",
       "        var display = window.getComputedStyle(gd).display;\n",
       "        if (!display || display === 'none') {{\n",
       "            console.log([gd, 'removed!']);\n",
       "            Plotly.purge(gd);\n",
       "            observer.disconnect();\n",
       "        }}\n",
       "}});\n",
       "\n",
       "// Listen for the removal of the full notebook cells\n",
       "var notebookContainer = gd.closest('#notebook-container');\n",
       "if (notebookContainer) {{\n",
       "    x.observe(notebookContainer, {childList: true});\n",
       "}}\n",
       "\n",
       "// Listen for the clearing of the current output cell\n",
       "var outputEl = gd.closest('.output');\n",
       "if (outputEl) {{\n",
       "    x.observe(outputEl, {childList: true});\n",
       "}}\n",
       "\n",
       "                        })                };                });            </script>        </div>"
      ]
     },
     "metadata": {},
     "output_type": "display_data"
    }
   ],
   "source": [
    "import pandas as pd\n",
    "import plotly.graph_objects as go\n",
    "\n",
    "# Read the tab-separated txt file into a pandas DataFrame\n",
    "data = pd.read_csv('/home/ameknas/sequenoscope-1/test_SE/sample_manifest.txt', sep='\\t')\n",
    "\n",
    "# Convert the 'start_time' column to datetime format\n",
    "data['start_time'] = pd.to_datetime(data['start_time'])\n",
    "\n",
    "total_count_2 = data.groupby('start_time').size().reset_index(name='total_count')\n",
    "\n",
    "# Calculate the count for each decision at each start time\n",
    "decision_count = data.groupby(['start_time', 'decision']).size().reset_index(name='count')\n",
    "\n",
    "# Define the decision mapping dictionary\n",
    "classes = {\n",
    "    \"stop_receiving\": [\"signal_positive\"],\n",
    "    \"unblocked\": [\"data_service_unblock_mux_change\"],\n",
    "    \"no_decision\": [\"signal_negative\", \"unblock_mux_change\"]\n",
    "}\n",
    "\n",
    "# Map the decisions based on the dictionary\n",
    "decision_count['decision'] = decision_count['decision'].map(lambda x: next((k for k, v in classes.items() if x in v), x))\n",
    "\n",
    "# Calculate the total count at each start time\n",
    "total_count = decision_count.groupby('start_time')['count'].sum().reset_index(name='total_count')\n",
    "\n",
    "# Calculate the percentage for each decision at each start time\n",
    "decision_count = decision_count.merge(total_count, on='start_time')\n",
    "decision_count['percentage'] = decision_count['count'] / decision_count['total_count'] * 100\n",
    "\n",
    "# Calculate the maximum count for scaling the second y-axis\n",
    "max_count = total_count_2[\"total_count\"].max()\n",
    "\n",
    "# Define the time bin unit and selected unit\n",
    "time_bin_unit = 'hours'\n",
    "\n",
    "# Convert the x-axis units to the desired time bin\n",
    "convert_time_units = lambda x: pd.to_timedelta(x, unit='s') / pd.Timedelta('1{}'.format(time_bin_unit))\n",
    "\n",
    "# Create lists to store the x-axis values for the bar chart\n",
    "x_values = []\n",
    "\n",
    "# Create the second y-axis trace\n",
    "df = pd.read_csv('/home/ameknas/sequenoscope-1/test_SE/sample_manifest.txt', sep='\\t')\n",
    "df['start_time'] = pd.to_datetime(df['start_time'], unit='s')\n",
    "df.set_index('start_time', inplace=True)\n",
    "if time_bin_unit == \"hours\":\n",
    "    hourly_counts = df.resample('30T').count()\n",
    "elif time_bin_unit == \"minutes\":\n",
    "    hourly_counts = df.resample('1T').count()\n",
    "elif time_bin_unit == \"seconds\":\n",
    "    hourly_counts = df.resample('1S').count()\n",
    "\n",
    "# Remove time 0 from hourly_counts\n",
    "hourly_counts = hourly_counts[hourly_counts.index != pd.to_datetime(0)]\n",
    "count_values = hourly_counts['read_id'].tolist()\n",
    "\n",
    "# Create the stacked bar chart\n",
    "fig = go.Figure()\n",
    "\n",
    "# Add bar traces for each decision\n",
    "color_palette = ['blue', 'green', 'orange', 'red']  # Define a custom color palette for the decisions\n",
    "filtered_data = decision_count[decision_count['decision'] == decision]\n",
    "filtered_data['start_time_numeric'] = filtered_data['start_time'].astype(int)\n",
    "\n",
    "    # Filter the data to display only the desired points on the x-axis\n",
    "if time_bin_unit == \"hours\":\n",
    "        filtered_data = filtered_data[\n",
    "            (filtered_data['start_time_numeric'] % 3600 == 0) | (filtered_data['start_time_numeric'] % 1800 == 0) | (filtered_data['start_time_numeric'] == 0)\n",
    "            ]\n",
    "elif time_bin_unit == \"minutes\":\n",
    "        filtered_data = filtered_data[(filtered_data['start_time_numeric'] % 60 == 0)]\n",
    "\n",
    "for x in filtered_data['start_time_numeric']:\n",
    "    for idx, decision in enumerate(filtered_data['decision'].unique()): # Store the x-axis values\n",
    "\n",
    "        fig.add_trace(go.Bar(x=x,\n",
    "                            y=filtered_data['percentage'],\n",
    "                            name=decision,\n",
    "                            marker_color=color_palette[idx],\n",
    "                            yaxis='y'))\n",
    "\n",
    "x_values = list(pd.unique(x_values))\n",
    "\n",
    "if time_bin_unit == 'hours' or time_bin_unit == 'minutes':\n",
    "    cumulative_counts = hourly_counts['read_id'].cumsum()\n",
    "    fig.add_trace(go.Scatter(x=x_values,\n",
    "                             y=cumulative_counts,\n",
    "                             name='Read Count',\n",
    "                             mode='lines',\n",
    "                             line=dict(color='black'),\n",
    "                             visible=True,\n",
    "                             yaxis='y2'))\n",
    "elif time_bin_unit == 'seconds':\n",
    "    total_count_2['start_time_numeric'] = total_count_2['start_time'].astype(int)\n",
    "    cumulative_counts = total_count_2['total_count'].cumsum()\n",
    "    fig.add_trace(go.Scatter(x=total_count_2['start_time_numeric'].astype(int).map(convert_time_units),\n",
    "                             y=cumulative_counts,\n",
    "                             name='Read Count',\n",
    "                             mode='lines',\n",
    "                             line=dict(color='black'),\n",
    "                             visible=True,\n",
    "                             yaxis='y2'))\n",
    "\n",
    "# Configure the plot layout\n",
    "fig.update_layout(\n",
    "    barmode='stack',\n",
    "    plot_bgcolor='white',\n",
    "    xaxis=dict(showgrid=False, title='Start Time ({})'.format(time_bin_unit)),\n",
    "    yaxis=dict(showgrid=False, title='Percentage'),\n",
    "    yaxis2=dict(showgrid=False, title='Cumulative Read Count', overlaying='y', side='right'),  # Set the range of the second y-axis\n",
    "    legend=dict(\n",
    "        orientation='h',\n",
    "        yanchor='top',\n",
    "        y=1.05,\n",
    "        xanchor='right',\n",
    "        x=1\n",
    "    ),\n",
    "    margin=dict(t=50, b=50)\n",
    ")\n",
    "\n",
    "# Display the stacked bar chart\n",
    "fig.show()\n",
    "\n"
   ]
  },
  {
   "attachments": {},
   "cell_type": "markdown",
   "metadata": {},
   "source": [
    "Read count line graph"
   ]
  },
  {
   "cell_type": "code",
   "execution_count": null,
   "metadata": {},
   "outputs": [],
   "source": [
    "# Read the tab-separated txt file into a pandas DataFrame\n",
    "data = pd.read_csv('/home/ameknas/sequenoscope-1/test_SE/sample_manifest.txt', sep='\\t')\n",
    "\n",
    "# Convert the 'start_time' column to datetime format\n",
    "data['start_time'] = pd.to_datetime(data['start_time'])\n",
    "\n",
    "# Calculate the total count at each start time\n",
    "total_count = data.groupby('start_time').size().reset_index(name='total_count')\n",
    "\n",
    "# Define the time bin unit\n",
    "time_bin_unit = 'hours'\n",
    "\n",
    "# Convert the x-axis units to the desired time bin\n",
    "convert_time_units = lambda x: pd.to_timedelta(x, unit='s') / pd.Timedelta('1{}'.format(time_bin_unit))\n",
    "\n",
    "# Create the line graph\n",
    "fig = go.Figure()\n",
    "\n",
    "# Add a line trace for the total count\n",
    "fig.add_trace(go.Scatter(x=total_count['start_time'].astype(int).map(convert_time_units), y=total_count['total_count'],\n",
    "                         mode='lines',\n",
    "                         name='Total Count',\n",
    "                         line=dict(color='blue')))\n",
    "\n",
    "# Configure the plot layout\n",
    "fig.update_layout(\n",
    "    plot_bgcolor='white',\n",
    "    xaxis=dict(showgrid=False, title='Start Time ({})'.format(time_bin_unit)),\n",
    "    yaxis=dict(showgrid=False, title='Total Count'),\n",
    "    margin=dict(t=50, b=50)\n",
    ")\n",
    "\n",
    "# Display the line graph\n",
    "fig.show()"
   ]
  },
  {
   "attachments": {},
   "cell_type": "markdown",
   "metadata": {},
   "source": [
    "Violin plots with max and min values included"
   ]
  },
  {
   "cell_type": "code",
   "execution_count": null,
   "metadata": {},
   "outputs": [],
   "source": [
    "# Define the chunk size for reading the files\n",
    "chunk_size = 1000\n",
    "\n",
    "# Read the first file and find the min and max values\n",
    "df1 = pd.read_csv('/home/ameknas/sequenoscope-1/test_SE/sample_manifest.txt', delimiter='\\t')\n",
    "max_value = df1['read_len'].max()\n",
    "min_value = df1['read_len'].min()\n",
    "\n",
    "# Add source file designation to the min and max rows\n",
    "max_row = pd.DataFrame({'read_len': [max_value], 'source_file': ['Long read']})\n",
    "min_row = pd.DataFrame({'read_len': [min_value], 'source_file': ['Long read']})\n",
    "\n",
    "# Append the min and max rows to the chunks list\n",
    "chunks = [min_row, max_row]\n",
    "\n",
    "# Read and process the first file in chunks\n",
    "for chunk in pd.read_csv('/home/ameknas/sequenoscope-1/test_SE/sample_manifest.txt', delimiter='\\t', chunksize=chunk_size, nrows=chunk_size):\n",
    "    chunk['source_file'] = 'Long read'\n",
    "    chunks.append(chunk)\n",
    "\n",
    "# Concatenate the chunks into a single DataFrame\n",
    "df1 = pd.concat(chunks)\n",
    "\n",
    "# Clear the chunks list for reuse\n",
    "chunks.clear()\n",
    "\n",
    "# Read the second file and find the min and max values\n",
    "df2 = pd.read_csv('/home/ameknas/sequenoscope-1/test_PE/sample_manifest.txt', delimiter='\\t')\n",
    "max_value = df2['read_len'].max()\n",
    "min_value = df2['read_len'].min()\n",
    "\n",
    "# Add source file designation to the min and max rows\n",
    "max_row = pd.DataFrame({'read_len': [max_value], 'source_file': ['Short read']})\n",
    "min_row = pd.DataFrame({'read_len': [min_value], 'source_file': ['Short read']})\n",
    "\n",
    "# Append the min and max rows to the chunks list\n",
    "chunks = [min_row, max_row]\n",
    "\n",
    "# Read and process the second file in chunks\n",
    "for chunk in pd.read_csv('/home/ameknas/sequenoscope-1/test_PE/sample_manifest.txt', delimiter='\\t', chunksize=chunk_size, nrows=chunk_size):\n",
    "    chunk['source_file'] = 'Short read'\n",
    "    chunks.append(chunk)\n",
    "\n",
    "# Concatenate the chunks into a single DataFrame\n",
    "df2 = pd.concat(chunks)\n",
    "\n",
    "# Combine the test and control data into a single DataFrame\n",
    "df = pd.concat([df1, df2])\n",
    "\n",
    "# Create the violin plot\n",
    "# fig = px.violin(df, x='source_file', y='read_len', color='sample_id',\n",
    "#                 box=True, points='all', hover_data=['sample_id'])\n",
    "\n",
    "fig = px.violin(df, x='source_file', y='read_len', points=False)\n",
    "\n",
    "# Set the title and labels\n",
    "fig.update_layout(\n",
    "    xaxis_title='Sequencing Type',\n",
    "    yaxis_title='Read Length'\n",
    ")\n",
    "\n",
    "# Show the plot\n",
    "fig.show()"
   ]
  },
  {
   "attachments": {},
   "cell_type": "markdown",
   "metadata": {},
   "source": [
    "Code Examples for Statistcal Tests"
   ]
  },
  {
   "cell_type": "code",
   "execution_count": null,
   "metadata": {},
   "outputs": [],
   "source": [
    "import pandas as pd\n",
    "from scipy import stats\n",
    "\n",
    "# Read the data from the test and control files\n",
    "test_data = pd.read_csv('paired_end_even_sample_manifest_summary.txt', delimiter='\\t')\n",
    "control_data = pd.read_csv('paired_end_log_sample_manifest_summary.txt', delimiter='\\t')\n",
    "\n",
    "# Extract the taxon_covered_bases column from the test and control data\n",
    "test_taxon_covered_bases = test_data['est_genome_size']\n",
    "control_taxon_covered_bases = control_data['est_genome_size']\n",
    "\n",
    "# Perform Shapiro-Wilk normality test\n",
    "test_normality = stats.shapiro(test_taxon_covered_bases)\n",
    "control_normality = stats.shapiro(control_taxon_covered_bases)\n",
    "\n",
    "# Check if both samples pass the normality assumption\n",
    "if test_normality[1] > 0.05 and control_normality[1] > 0.05:\n",
    "    # Perform independent t-test\n",
    "    t_statistic, p_value = stats.ttest_ind(test_taxon_covered_bases, control_taxon_covered_bases)\n",
    "   \n",
    "    # Print the t-test result\n",
    "    print(f\"T-Statistic: {t_statistic}\")\n",
    "    print(f\"P-Value: {p_value}\")\n",
    "    if p_value < 0.05:\n",
    "        print(\"The difference between the test and control samples is statistically significant.\")\n",
    "    else:\n",
    "        print(\"The difference between the test and control samples is not statistically significant.\")\n",
    "else:\n",
    "    print(\"The data does not meet the normality assumption. Consider using non-parametric tests.\")"
   ]
  },
  {
   "attachments": {},
   "cell_type": "markdown",
   "metadata": {},
   "source": [
    "If the data does not meet the normality assumption, we use the Mann-whitney U test"
   ]
  },
  {
   "cell_type": "code",
   "execution_count": null,
   "metadata": {},
   "outputs": [],
   "source": [
    "import pandas as pd\n",
    "from scipy import stats\n",
    "\n",
    "# Read the data from the test and control files\n",
    "test_data = pd.read_csv('paired_end_even_sample_manifest_summary.txt', delimiter='\\t')\n",
    "control_data = pd.read_csv('paired_end_log_sample_manifest_summary.txt', delimiter='\\t')\n",
    "\n",
    "# Extract the taxon_covered_bases column from the test and control data\n",
    "test_taxon_covered_bases = test_data['taxon_covered_bases']\n",
    "control_taxon_covered_bases = control_data['taxon_covered_bases']\n",
    "\n",
    "# Perform Mann-Whitney U test\n",
    "u_statistic, p_value = stats.mannwhitneyu(test_taxon_covered_bases, control_taxon_covered_bases)\n",
    "\n",
    "# Print the Mann-Whitney U test result\n",
    "print(f\"U-Statistic: {u_statistic}\")\n",
    "print(f\"P-Value: {p_value}\")\n",
    "if p_value < 0.05:\n",
    "    print(\"The difference between the test and control samples is statistically significant.\")\n",
    "else:\n",
    "    print(\"The difference between the test and control samples is not statistically significant.\")"
   ]
  },
  {
   "cell_type": "code",
   "execution_count": null,
   "metadata": {},
   "outputs": [],
   "source": [
    "import pandas as pd\n",
    "from scipy import stats\n",
    "\n",
    "# Read the data from the test and control files\n",
    "test_data = pd.read_csv('paired_end_even_sample_manifest_summary.txt', delimiter='\\t', dtype={'taxon_id': str})\n",
    "control_data = pd.read_csv('paired_end_log_sample_manifest_summary.txt', delimiter='\\t', dtype={'taxon_id': str})\n",
    "\n",
    "# List of parameters\n",
    "parameters = ['est_genome_size', 'est_kmer_coverage_depth', 'total_bases', 'total_fastp_bases',\n",
    "              'mean_read_length', 'mean_read_length_reverse', 'taxon_length', 'taxon_%_covered_bases',\n",
    "              'taxon_mean_read_length']\n",
    "\n",
    "# Create an empty DataFrame to store the results\n",
    "result_df = pd.DataFrame(columns=['Taxon_ID', 'Parameter', 'Test_Value', 'Control_Value', 'Ratio',\n",
    "                                  'Statistical_Test', 'P-Value', 'Significance'])\n",
    "\n",
    "# Iterate over each taxon ID\n",
    "for taxon_id in test_data['taxon_id'].unique():\n",
    "    # Extract the rows corresponding to the current taxon ID from the test and control data\n",
    "    test_rows = test_data[test_data['taxon_id'] == taxon_id]\n",
    "    control_rows = control_data[control_data['taxon_id'] == taxon_id]\n",
    "\n",
    "    # Get the number of values for the current taxon ID\n",
    "    test_count = len(test_rows)\n",
    "    control_count = len(control_rows)\n",
    "\n",
    "    # Iterate over each parameter\n",
    "    for param in parameters:\n",
    "        # Extract the parameter values from the test and control rows\n",
    "        test_values = test_rows[param]\n",
    "        control_values = control_rows[param]\n",
    "\n",
    "        # Compute the ratio of test to control\n",
    "        ratio = test_values.mean() / control_values.mean()\n",
    "\n",
    "        if test_count > 3 and control_count > 3:\n",
    "            # Perform Shapiro-Wilk normality test\n",
    "            test_normality = stats.shapiro(test_values)\n",
    "            control_normality = stats.shapiro(control_values)\n",
    "\n",
    "            # Check if both samples pass the normality assumption\n",
    "            if test_normality.pvalue > 0.05 and control_normality.pvalue > 0.05:\n",
    "                # Perform independent t-test\n",
    "                t_statistic, p_value = stats.ttest_ind(test_values, control_values)\n",
    "                statistical_test = 't-test'\n",
    "            else:\n",
    "                # Perform Mann-Whitney U test\n",
    "                u_statistic, p_value = stats.mannwhitneyu(test_values, control_values)\n",
    "                statistical_test = 'Mann-Whitney U'\n",
    "        else:\n",
    "            # Perform Mann-Whitney U test\n",
    "            u_statistic, p_value = stats.mannwhitneyu(test_values, control_values)\n",
    "            statistical_test = 'Mann-Whitney U'\n",
    "\n",
    "        # Determine the significance based on the p-value\n",
    "        significance = 'Significant' if p_value < 0.05 else 'Not Significant'\n",
    "\n",
    "        # Append the result to the DataFrame\n",
    "        result_df = result_df.append({'Taxon_ID': taxon_id,\n",
    "                                      'Parameter': param,\n",
    "                                      'Test_Value': test_values.mean(),\n",
    "                                      'Control_Value': control_values.mean(),\n",
    "                                      'Ratio': ratio,\n",
    "                                      'Statistical_Test': statistical_test,\n",
    "                                      'P-Value': p_value,\n",
    "                                      'Significance': significance}, ignore_index=True)\n",
    "\n",
    "# Save the result DataFrame to a CSV file\n",
    "# result_df.to_csv('result.csv', index=False)\n",
    "\n",
    "result_df"
   ]
  },
  {
   "cell_type": "code",
   "execution_count": null,
   "metadata": {},
   "outputs": [],
   "source": [
    "import pandas as pd\n",
    "from scipy import stats\n",
    "\n",
    "# Read the data from the test and control files\n",
    "test_data = pd.read_csv('paired_end_even_sample_manifest_summary.txt', delimiter='\\t')\n",
    "control_data = pd.read_csv('paired_end_log_sample_manifest_summary.txt', delimiter='\\t')\n",
    "\n",
    "# List of parameters\n",
    "parameters = ['est_genome_size', 'est_kmer_coverage_depth', 'total_bases', 'total_fastp_bases',\n",
    "              'mean_read_length', 'mean_read_length_reverse', 'taxon_length', 'taxon_%_covered_bases',\n",
    "              'taxon_mean_read_length']\n",
    "\n",
    "# Create an empty DataFrame to store the results\n",
    "result_df = pd.DataFrame(columns=['Parameter', 'Test_Value', 'Control_Value', 'Ratio',\n",
    "                                  'Statistical_Test', 'P-Value', 'Significance', 'taxon_id'])\n",
    "\n",
    "# Iterate over each row in the test data\n",
    "for index, test_row in test_data.iterrows():\n",
    "    # Extract the taxon ID for the current row\n",
    "    taxon_id = test_row['taxon_id']\n",
    "    sample_id = test_row['sample_id']\n",
    "\n",
    "    # Iterate over each parameter\n",
    "    for param in parameters:\n",
    "        # Extract the parameter values from the test and control data\n",
    "        test_value = test_row[param]\n",
    "        control_value = control_data.iloc[index][param]\n",
    "\n",
    "        # Compute the ratio of test to control\n",
    "        ratio = test_value / control_value\n",
    "\n",
    "        # Perform Shapiro-Wilk normality test\n",
    "        test_normality = stats.shapiro(test_data[param])\n",
    "        control_normality = stats.shapiro(control_data[param])\n",
    "\n",
    "        # Check if both samples pass the normality assumption\n",
    "        if test_normality[1] > 0.05 and control_normality[1] > 0.05:\n",
    "            # Perform independent t-test\n",
    "            t_statistic, p_value = stats.ttest_ind(test_data[param], control_data[param])\n",
    "            statistical_test = 't-test'\n",
    "        else:\n",
    "            # Perform Mann-Whitney U test\n",
    "            u_statistic, p_value = stats.mannwhitneyu(test_data[param], control_data[param])\n",
    "            statistical_test = 'Mann-Whitney U'\n",
    "\n",
    "        # Determine the significance based on the p-value\n",
    "        significance = 'Significant' if p_value < 0.05 else 'Not Significant'\n",
    "\n",
    "        # Append the result to the DataFrame\n",
    "        result_df = result_df.append({'taxon_id': taxon_id,\n",
    "                                      'sample_id': sample_id,\n",
    "                                      'Parameter': param,\n",
    "                                      'Test_Value': test_value,\n",
    "                                      'Control_Value': control_value,\n",
    "                                      'Ratio': ratio,\n",
    "                                      'Statistical_Test': statistical_test,\n",
    "                                      'P-Value': p_value,\n",
    "                                      'Significance': significance,\n",
    "                                      }, ignore_index=True)\n",
    "\n",
    "    # Add a row of dashes\n",
    "    result_df = result_df.append(pd.Series(['-' for _ in result_df.columns], index=result_df.columns), ignore_index=True)\n",
    "\n",
    "# Save the result DataFrame to a CSV file\n",
    "result_df.to_csv('result.csv', index=False)\n",
    "result_df"
   ]
  }
 ],
 "metadata": {
  "kernelspec": {
   "display_name": "base",
   "language": "python",
   "name": "python3"
  },
  "language_info": {
   "codemirror_mode": {
    "name": "ipython",
    "version": 3
   },
   "file_extension": ".py",
   "mimetype": "text/x-python",
   "name": "python",
   "nbconvert_exporter": "python",
   "pygments_lexer": "ipython3",
   "version": "3.7.6"
  },
  "orig_nbformat": 4,
  "vscode": {
   "interpreter": {
    "hash": "c483434166e3aac12e4d2ce4daf3d83f16e8f0fc2b1c79b692132069bc38c7f6"
   }
  }
 },
 "nbformat": 4,
 "nbformat_minor": 2
}
