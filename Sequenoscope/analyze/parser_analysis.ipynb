{
 "cells": [
  {
   "cell_type": "code",
   "execution_count": null,
   "metadata": {},
   "outputs": [],
   "source": [
    "import pandas as pd\n",
    "import json\n",
    "import os\n",
    "import argparse as ap"
   ]
  },
  {
   "cell_type": "code",
   "execution_count": null,
   "metadata": {},
   "outputs": [],
   "source": [
    "data = json.load(open('histogram_file.dist_analysis.json'))\n",
    "\n",
    "df = pd.DataFrame(data[\"peaks\"])\n",
    "global_maxima = data[\"global_maxima\"]\n",
    "print(df)\n",
    "print(\"-\"*80)\n",
    "print(global_maxima)\n",
    "print(\"-\"*80)\n",
    "value = data[\"mean_freq\"]\n",
    "print(value)"
   ]
  },
  {
   "cell_type": "code",
   "execution_count": null,
   "metadata": {},
   "outputs": [],
   "source": [
    "data = pd.read_csv('output-stats.tsv', sep='\\t', header=0, index_col=0)\n",
    "data\n",
    "# data_info = data[[\"invalid_kmers\", \"non_zero_kmers\", \"seq_length\", \"%_non_zero\"]]\n",
    "# data_info\n",
    "# data_info[[\"non_zero_kmers\"]]\n",
    "\n",
    "# value = data[\"non_zero_kmers\"].sum()\n",
    "# print(value)\n"
   ]
  },
  {
   "cell_type": "code",
   "execution_count": null,
   "metadata": {},
   "outputs": [],
   "source": [
    "print(data.info())"
   ]
  },
  {
   "cell_type": "code",
   "execution_count": null,
   "metadata": {},
   "outputs": [],
   "source": [
    "data = pd.read_csv('test_sequences/sequencing_summary_FAT53867_9a53b23a.txt', sep='\\t', index_col=0)\n",
    "\n",
    "#general data check\n",
    "print(data.describe())\n",
    "print(\"-\"*40)\n",
    "\n",
    "\n",
    "##check read_id duplicates\n",
    "df1 = len(data[\"read_id\"])\n",
    "df2 = len(data[\"read_id\"].drop_duplicates())\n",
    "if df1 == df2:\n",
    "    print(\"there really aren't any duplicated\")\n",
    "\n",
    "\n",
    "\n",
    "\n",
    "\n"
   ]
  },
  {
   "cell_type": "code",
   "execution_count": null,
   "metadata": {},
   "outputs": [],
   "source": [
    "data = pd.read_csv('test_sequences/sequencing_summary_FAT53867_9a53b23a.txt', sep='\\t', index_col=0)\n",
    "select_data = data[[\"read_id\", \"channel\", \"start_time\", \"duration\", \"sequence_length_template\", \"mean_qscore_template\",\n",
    "                    \"end_reason\"]]\n",
    "select_data.reset_index(drop=True, inplace=True)\n",
    "select_data"
   ]
  },
  {
   "cell_type": "code",
   "execution_count": 170,
   "metadata": {},
   "outputs": [
    {
     "data": {
      "text/html": [
       "<div>\n",
       "<style scoped>\n",
       "    .dataframe tbody tr th:only-of-type {\n",
       "        vertical-align: middle;\n",
       "    }\n",
       "\n",
       "    .dataframe tbody tr th {\n",
       "        vertical-align: top;\n",
       "    }\n",
       "\n",
       "    .dataframe thead th {\n",
       "        text-align: right;\n",
       "    }\n",
       "</style>\n",
       "<table border=\"1\" class=\"dataframe\">\n",
       "  <thead>\n",
       "    <tr style=\"text-align: right;\">\n",
       "      <th></th>\n",
       "      <th>read_id</th>\n",
       "    </tr>\n",
       "  </thead>\n",
       "  <tbody>\n",
       "    <tr>\n",
       "      <th>2434</th>\n",
       "      <td>36b8f142-863a-4857-815e-4912bf77f54f</td>\n",
       "    </tr>\n",
       "    <tr>\n",
       "      <th>6909</th>\n",
       "      <td>b6df0b84-e5dc-4316-8ed7-dc4166d6b58c</td>\n",
       "    </tr>\n",
       "    <tr>\n",
       "      <th>7202</th>\n",
       "      <td>92f8ce66-cb09-46c9-b040-46222e74816d</td>\n",
       "    </tr>\n",
       "    <tr>\n",
       "      <th>8593</th>\n",
       "      <td>2ec80c2d-be2d-4e41-afec-1798af1b1a68</td>\n",
       "    </tr>\n",
       "    <tr>\n",
       "      <th>14010</th>\n",
       "      <td>1dfe9a84-443b-4428-8984-18530f2f259c</td>\n",
       "    </tr>\n",
       "    <tr>\n",
       "      <th>...</th>\n",
       "      <td>...</td>\n",
       "    </tr>\n",
       "    <tr>\n",
       "      <th>338351</th>\n",
       "      <td>4005dd9b-fb80-4c96-96f2-22c45ea5b710</td>\n",
       "    </tr>\n",
       "    <tr>\n",
       "      <th>338835</th>\n",
       "      <td>87bc71ec-3138-4707-b783-f953afd246dd</td>\n",
       "    </tr>\n",
       "    <tr>\n",
       "      <th>342225</th>\n",
       "      <td>626710a8-35aa-48b0-ba88-96993ad304cd</td>\n",
       "    </tr>\n",
       "    <tr>\n",
       "      <th>343119</th>\n",
       "      <td>12b4052f-19d8-4845-8321-60491168d8ef</td>\n",
       "    </tr>\n",
       "    <tr>\n",
       "      <th>345272</th>\n",
       "      <td>2f1ffd9d-6a62-40eb-bd16-f098fe776b85</td>\n",
       "    </tr>\n",
       "  </tbody>\n",
       "</table>\n",
       "<p>285 rows × 1 columns</p>\n",
       "</div>"
      ],
      "text/plain": [
       "                                     read_id\n",
       "2434    36b8f142-863a-4857-815e-4912bf77f54f\n",
       "6909    b6df0b84-e5dc-4316-8ed7-dc4166d6b58c\n",
       "7202    92f8ce66-cb09-46c9-b040-46222e74816d\n",
       "8593    2ec80c2d-be2d-4e41-afec-1798af1b1a68\n",
       "14010   1dfe9a84-443b-4428-8984-18530f2f259c\n",
       "...                                      ...\n",
       "338351  4005dd9b-fb80-4c96-96f2-22c45ea5b710\n",
       "338835  87bc71ec-3138-4707-b783-f953afd246dd\n",
       "342225  626710a8-35aa-48b0-ba88-96993ad304cd\n",
       "343119  12b4052f-19d8-4845-8321-60491168d8ef\n",
       "345272  2f1ffd9d-6a62-40eb-bd16-f098fe776b85\n",
       "\n",
       "[285 rows x 1 columns]"
      ]
     },
     "execution_count": 170,
     "metadata": {},
     "output_type": "execute_result"
    }
   ],
   "source": [
    "classification = ['signal_positive',\n",
    " 'data_service_unblock_mux_change',\n",
    " 'signal_negative',\n",
    " 'unblock_mux_change']\n",
    "min_ch = 1\n",
    "max_ch = 100\n",
    "min_dur = 1\n",
    "max_dur = max(select_data.duration)\n",
    "min_q = 5\n",
    "max_q = 6\n",
    "min_len = 500\n",
    "max_len = 5000\n",
    "\n",
    "filtered_reads = select_data[(select_data[\"end_reason\"].isin(classification)) & \n",
    "                             (select_data.channel.between(min_ch, max_ch)) & \n",
    "                             (select_data.duration.between(min_dur, max_dur)) &\n",
    "                             (select_data.mean_qscore_template.between(min_q, max_q)) & \n",
    "                             (select_data.sequence_length_template.between(min_len, max_len))]\n",
    "\n",
    "\n",
    "filtered_reads[[\"read_id\"]]\n",
    "# filtered_reads[[\"read_ids\"]].to_csv(\"filtered_reads.csv\", index=False)"
   ]
  },
  {
   "cell_type": "code",
   "execution_count": null,
   "metadata": {},
   "outputs": [],
   "source": [
    "def check_ont_summary_file(file_path):\n",
    "    if not os.path.isfile(file_path):\n",
    "        print(\"Error: file not found\")\n",
    "        return False\n",
    "\n",
    "    with open(file_path, \"r\") as f:\n",
    "        lines = f.readlines()\n",
    "\n",
    "    if not lines or len(lines) < 2:\n",
    "        print(\"Error: file is empty or has fewer than 2 lines\")\n",
    "        return False\n",
    "    \n",
    "    for line in lines[1:]:\n",
    "        fields = line.strip().split(\"\\t\")\n",
    "        if len(fields) != 41:\n",
    "            print(f\"Error: malformed line: {line.strip()}\")\n",
    "            return False\n",
    "        try:\n",
    "            int(fields[4])\n",
    "        except ValueError:\n",
    "            print(f\"Error: invalid channel designation: {fields[4]}\")\n",
    "            return False\n",
    "    \n",
    "    return True\n",
    "\n",
    "check_ont_summary_file(\"test_sequences/sequencing_summary_FAT53867_9a53b23a.txt\")"
   ]
  },
  {
   "cell_type": "code",
   "execution_count": null,
   "metadata": {},
   "outputs": [],
   "source": [
    "classes = {\"stop_receiving\":[\"signal_positive\"], \"unblocked\":[\"data_service_unblock_mux_change\"],\n",
    "               \"no_decision\":[\"signal_negative\", \"unblock_mux_change\"]}\n",
    "\n",
    "classification = \"no_decision\"\n",
    "\n",
    "new_classification = classes[classification]\n",
    "pp = list(classes.values())\n",
    "ppp = []\n",
    "for x in pp:\n",
    "    ppp.extend(x)\n",
    "ppp"
   ]
  },
  {
   "cell_type": "code",
   "execution_count": null,
   "metadata": {},
   "outputs": [],
   "source": [
    "with open(\"test_sequences/Test_br1_sal_lam_enriched.fastq\", \"r\") as f:\n",
    "    first_line = f.readline().strip()\n",
    "    second_line = f.readline().strip()\n",
    "    third_line = f.readline().strip()\n",
    "    fourth_line = f.readline().strip()\n",
    "\n",
    "if len(second_line) == len(fourth_line):\n",
    "    print(\"yeahh buddy, light weight baby\")"
   ]
  },
  {
   "cell_type": "code",
   "execution_count": 177,
   "metadata": {},
   "outputs": [
    {
     "name": "stdout",
     "output_type": "stream",
     "text": [
      "no_decision\n"
     ]
    }
   ],
   "source": [
    "parser = ap.ArgumentParser(prog=\"sequenoscope\", usage=\"%(prog)s <command> <argument>\", description=\"%(prog)s version 1.0: a tool for analyzing and processing sequencing data.\",\n",
    "                           formatter_class= ap.RawTextHelpFormatter)\n",
    "\n",
    "parser._positionals.title = \"Commands\"\n",
    "# parser._positionals\n",
    "parser._optionals.title = \"Help\"\n",
    "# parser.add_argument('--foo', action='store_true', help='foo help')\n",
    "subparsers = parser.add_subparsers()\n",
    "\n",
    "analyze_parser = subparsers.add_parser('analyze', help='map reads to a target and produce a report with sequencing statistics')\n",
    "plot_parser = subparsers.add_parser('plot', help='generate plots based on fastq or kmer hash files')\n",
    "\n",
    "\n",
    "filter_parser = subparsers.add_parser('filter_ONT', help='filter reads from a fastq file based on a sequencing summary file')\n",
    "filter_parser.usage = \"sequenoscope filter_ONT --input_fastq <file.fq> --input_summary <seq_summary.txt> -o <out.fastq> [options]\"\n",
    "filter_parser.add_argument(\"--input_fastq\", metavar=\"\", required=True, nargs=\"+\", help=\"[REQUIRED] Path to adaptive sequencing fastq files to process.\")\n",
    "filter_parser.add_argument(\"--input_summary\", metavar=\"\", required=True, help=\"[REQUIRED] Path to ONT sequencing summary file.\")\n",
    "filter_parser.add_argument(\"-o\", \"--output\", metavar=\"\", required=True, help=\"[REQUIRED] Output directory/file designation\")\n",
    "filter_parser.add_argument(\"-cls\", \"--classification\", metavar=\"\", choices=['unblocked', 'stop_receiving', 'no_decision'], help=\"a designation of the adaptive-sampling sequencing decision classification ['unblocked', 'stop_receiving', or 'no_decision']\")\n",
    "filter_parser.add_argument(\"-min_ch\", \"--minimum_channel\", default=1, metavar=\"\", type=int, help=\"a designation of the minimum channel/pore number for filtering reads\")\n",
    "filter_parser.add_argument(\"-max_ch\", \"--maximum_channel\", default=512, metavar=\"\", type=int, help=\"a designation of the maximum channel/pore number for filtering reads\")\n",
    "filter_parser.add_argument(\"-min_dur\", \"--minimum_duration\", metavar=\"\", type=float, help=\"a designation of the minimum duration of the sequencing run in SECONDS for filtering reads\")\n",
    "filter_parser.add_argument(\"-max_dur\", \"--maximum_duration\", metavar=\"\", type=float, help=\"a designation of the maximum duration of the sequencing run in SECONDS for filtering reads\")\n",
    "filter_parser.add_argument(\"-min_start\", \"--minimum_start_time\", metavar=\"\", type=float, help=\"a designation of the minimum start time of the sequencing run in SECONDS for filtering reads\")\n",
    "filter_parser.add_argument(\"-max_start\", \"--maximum_start_time\", metavar=\"\", type=float, help=\"a designation of the maximum start time of the sequencing run in SECONDS for filtering reads\")\n",
    "filter_parser.add_argument(\"-min_q\", \"--minimum_q_score\", metavar=\"\", type=int, help=\"a designation of the minimum q score for filtering reads\")\n",
    "filter_parser.add_argument(\"-max_q\", \"--maximum_q_score\", metavar=\"\", type=int, help=\"a designation of the maximum q score for filtering reads\")\n",
    "filter_parser.add_argument(\"-min_len\", \"--minimum_length\", metavar=\"\", type=int, help=\"a designation of the minimum read length for filtering reads\")\n",
    "filter_parser.add_argument(\"-max_len\", \"--maximum_length\", metavar=\"\", type=int, help=\"a designation of the maximum read length for filtering reads\")\n",
    "# parser.print_help()\n",
    "args = parser.parse_args([\"filter_ONT\", \"--input_fastq\", \"<file.fq>\", \"--input_summary\", \"<seq_summary.txt>\", \"-o\", \"<out.fastq>\", \"-cls\", \"no_decision\"])\n",
    "# filter_parser.print_help()\n",
    "\n",
    "clas = args.classification\n",
    "print(clas)"
   ]
  }
 ],
 "metadata": {
  "kernelspec": {
   "display_name": "Python 3",
   "language": "python",
   "name": "python3"
  },
  "language_info": {
   "codemirror_mode": {
    "name": "ipython",
    "version": 3
   },
   "file_extension": ".py",
   "mimetype": "text/x-python",
   "name": "python",
   "nbconvert_exporter": "python",
   "pygments_lexer": "ipython3",
   "version": "3.10.10"
  },
  "orig_nbformat": 4,
  "vscode": {
   "interpreter": {
    "hash": "4006e8cb3b36a78823c465790770e1ecf556d7c18fd72bd451abd8d142aa69db"
   }
  }
 },
 "nbformat": 4,
 "nbformat_minor": 2
}
